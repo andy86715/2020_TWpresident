{
 "cells": [
  {
   "cell_type": "code",
   "execution_count": 1,
   "metadata": {
    "collapsed": true
   },
   "outputs": [],
   "source": [
    "import re\n",
    "import sys\n",
    "import time\n",
    "import getpass\n",
    "import telnetlib\n",
    "import pandas as pd\n",
    "from tqdm import tqdm_notebook"
   ]
  },
  {
   "cell_type": "code",
   "execution_count": 2,
   "metadata": {
    "collapsed": true
   },
   "outputs": [],
   "source": [
    "# 7-bit C1 ANSI sequences\n",
    "ansi_escape = re.compile(r'''\n",
    "    \\x1B    # ESC\n",
    "    [@-_]   # 7-bit C1 Fe\n",
    "    [0-?]*  # Parameter bytes\n",
    "    [ -/]*  # Intermediate bytes\n",
    "    [@-~]   # Final byte\n",
    "''', re.VERBOSE)"
   ]
  },
  {
   "cell_type": "markdown",
   "metadata": {},
   "source": [
    "https://tw.18dao.net/查ASC碼/各鍵對應的ASCII碼值"
   ]
  },
  {
   "cell_type": "markdown",
   "metadata": {},
   "source": [
    "### 第一場政見發表會"
   ]
  },
  {
   "cell_type": "code",
   "execution_count": 3,
   "metadata": {
    "collapsed": false
   },
   "outputs": [
    {
     "name": "stdout",
     "output_type": "stream",
     "text": [
      "請輸入帳號········\n",
      "請輸入密碼········\n",
      "HTTP/1.1 200 OK\n",
      "\n",
      "     ˙      \u001b[33;1mPTT\u001b[m                ·   ◣        ·  ˙      \u001b[1m◢\u001b[47m██████\u001b[40m◤\u001b[m\n",
      "             \u001b[1m140.112.172.11 \u001b[m·     ◢\u001b[47m█\u001b[1m◥\u001b[40m█◤\u001b[m            \u001b[1m◢\u001b[47m█████\u001b[m\n",
      "  ┌─┐     \u001b[33;1m批踢踢實業坊\u001b[m        ◢\u001b[30;47m▃\u001b[37m██\u001b[1m◥█\u001b[40m◤\u001b[m   ·   \u001b[1m◢\u001b[47m█████\u001b[40m◤  \u001b[m·\u001b[m\n",
      "  │\u001b[1m–\u001b[m└┐   \u001b[1mptt.cc       \u001b[m     ◢\u001b[47m█████\u001b[1m◥\u001b[40m█◤\u001b[m    \u001b[1m◢\u001b[47m█████\u001b[m\n",
      "  │\u001b[1m–\u001b[m  │                   ◢\u001b[47m███\u001b[40m◤\u001b[47m███\u001b[1m◥\u001b[40m◤\u001b[m  \u001b[1m◢\u001b[47m█████\u001b[40m◤  \u001b[m˙  ·\u001b[m\n",
      "─┘    │┌──┐  ·       ◥◤      \u001b[47m████\u001b[40m◣\u001b[1m◢\u001b[47m████\u001b[40m    \u001b[m·\u001b[m\n",
      "        └┤  \u001b[33;1m–\u001b[m│      ·           ◢\u001b[47m████\u001b[1m◢███\u001b[40m◤            \u001b[m·\u001b[m\n",
      "                │┌───┐         \u001b[47m█████\u001b[40m▇▇▆▆▅▅▄▄▃▂▁\u001b[m\n",
      "            ┌─┴┘\u001b[1m–\u001b[33m–\u001b[m  └ ◢\u001b[47m█████\u001b[40m▇▇▆▆▅▅▄▄▃▃▂▂▁\u001b[m\n",
      "            │\u001b[1m––\u001b[m           ◥\u001b[47m██\u001b[40m      █▇▇▆▆▅▅▄▄▃▂▁\u001b[m\n",
      "\u001b[H\u001b[2J\u001b[47m     \u001b[44m\u001b[47m          \u001b[44m◣               \u001b[1;30m/\u001b[37m／  \u001b[30m\\\u001b[37m\\\u001b[;34;44m\u001b[31m\u001b[41m \u001b[44m◣ ◥\u001b[33;41m      ▁▂▃▄▅▄▃▂▁       \u001b[m\n",
      "\u001b[47m                     \u001b[44m◣           \u001b[1;30m\\\u001b[37m＼  \u001b[30m/\u001b[37m/  \u001b[;31;44m◥\u001b[34;41m   \u001b[31;44m\u001b[33;41m   ◢\u001b[43m                  \u001b[41m◣  \u001b[1;30m{  \u001b[m\n",
      "\u001b[1;30;47m    ▃\u001b[;47mc              \u001b[44m\u001b[47m   \u001b[44m◣     \u001b[1;30m/\u001b[37m／︾ \u001b[;31;44m▂    \u001b[41m   \u001b[33m◢\u001b[1;31;43m υ                   \u001b[;33;41m◣   \u001b[m\n",
      "\u001b[1;30;47m      ◥◣          \u001b[;47m\u001b[1;30mc▃      \u001b[;44m◣  \u001b[1;30m\\\u001b[37m\\ \u001b[;31;44m◢\u001b[41m    \u001b[44m◣◢\u001b[41m    \u001b[1;43m                     ι   \u001b[41m   \u001b[m\n",
      "\u001b[1;30;47m         \u001b[;47m       \u001b[1;30m◢◤          \u001b[;44m\u001b[34mf\u001b[1;30m/\u001b[37m／  \u001b[;31;44m◥\u001b[41m         \u001b[30;43m      ◢◣        ◢◣      \u001b[41m  \u001b[m\n",
      "\u001b[30;47m   ◢\u001b[40m  \u001b[47m◣    \u001b[1m北  \u001b[;47m\u001b[1;30m              \u001b[;44m◣\u001b[30m＼\u001b[1;37m══ \u001b[;31;44m\u001b[41m  \u001b[1;30m\\  \u001b[43m       \u001b[;1m  \u001b[43m        \u001b[40m  \u001b[43m   \u001b[31mν  \u001b[41m \u001b[m\n",
      "\u001b[1;47m   \u001b[40m    \u001b[30;47m    ↑   \u001b[;30;47m◢\u001b[40m  \u001b[47m◣           \u001b[;44m▎ \u001b[1;30m\u001b[37m   \u001b[;34;44m\u001b[41m    \u001b[30;43m       ◥◤        ◥◤       \u001b[41m \u001b[m\n",
      "\u001b[30;47m    ◥\u001b[40m \u001b[47m◤         \u001b[1;37m\u001b[40m    \u001b[47m           \u001b[;44m▍ \u001b[30m//   \u001b[31m◥\u001b[41m    \u001b[43m                              \u001b[41m \u001b[m\n",
      "\u001b[30;47m                   ◥\u001b[40m \u001b[47m◤          \u001b[;44m\u001b[34m\u001b[1;37m==\u001b[;31;44m▁◢\u001b[41m     \u001b[43m    \u001b[1;41m////\u001b[43m              \u001b[41m////\u001b[43m    \u001b[41m \u001b[m\n",
      "\u001b[1;47m  ◢       \u001b[30m＼                  踢\u001b[;47m\u001b[44m  \u001b[1;30m!\u001b[37m!    \u001b[;31;44m◢\u001b[41m     \u001b[43m                            \u001b[41m  \u001b[m\n",
      "\u001b[1;47m  ▍         \u001b[30m\\ \u001b[;30;47m◢\u001b[37m  \u001b[1;30m╭╮批 踢     \u001b[;44m\u001b[34m\u001b[30m/\u001b[31m▄▆\u001b[1;30;41m   ∼    \u001b[43m       \u001b[;33m◣         ◢\u001b[43m      \u001b[41m   \u001b[m\n",
      "\u001b[47m \u001b[1m          \u001b[30m\u001b[37mb\u001b[;30;47m◥\u001b[37m\u001b[1;30m＼_-╯╮         \u001b[;44m\u001b[34m\u001b[1;37m` ﹏ \u001b[;34;41m▅◣    \u001b[33m◥\u001b[43m                      \u001b[41m◤   \u001b[m\n",
      "\u001b[1;30;47m             /     \\_--╮╯     坊   \u001b[44m / \u001b[37m\u001b[30mg\u001b[37m\\   \u001b[;34;41m◤ \u001b[1;30m'   \u001b[;33;41m◥\u001b[43m                  \u001b[41m◤   \u001b[31;44m▊\u001b[m\n",
      "\u001b[47m  \u001b[44m\u001b[47m       \u001b[1;30m／        ╰╯ 實 業    \u001b[;44m◤\u001b[1;30m| \u001b[37m[    \u001b[;34;41m◤   \u001b[31;44m\u001b[41m \u001b[1;30m/  \u001b[;31;43m▇▆▅▄▃▄▅▆▇\u001b[1;30;41m  ;  \u001b[;31;44m▎\u001b[m\n",
      "\u001b[34;44m\u001b[37m \u001b[34;47m▇▅▆\u001b[44m \u001b[47m▅▄▃▄▅▄▃▂▁▂▃▄\u001b[1;30;44m   ↘\u001b[37m\\__\u001b[30m/\u001b[;34;41m▆▇\u001b[44m  \u001b[31m\u001b[1;30;41m               /           \u001b[;31;44m▍\u001b[m\n",
      "\u001b[34;44m  ▃▃                             \u001b[1;30m／ \u001b[37m\u001b[30m_\u001b[37m︸ \u001b[32m      \u001b[41m \u001b[;31;44m◤\u001b[1;30;41m  \"  \u001b[;34;41m▄\u001b[31;44m◥\u001b[1;30;41m \\\\   \u001b[;31;44m\u001b[34;41m \u001b[31;44m  ◥\u001b[41m  \u001b[44m▌\u001b[m\n",
      "\u001b[1;30;44m                                  ︰\u001b[32m\u001b[37m]  __        \u001b[;34;44m\u001b[41m\u001b[44m \u001b[31m\u001b[41m\u001b[44m哈   \u001b[34m\u001b[31m\u001b[41m   \u001b[44m◤ ◥\u001b[41m \u001b[44m    ◥ \u001b[m\n",
      "\u001b[1;30;44mψauhu                             \\\u001b[;30;44m＼\u001b[1;37m\u001b[30m`\u001b[37m／            \u001b[;34;44m\u001b[31m         ◥             \u001b[m\n",
      "            歡迎來到 \u001b[1;33m批踢踢實業坊 \u001b[m目前有【\u001b[1;33m96451\u001b[m】位使用者在線上\n",
      "\n",
      "\n",
      "\n",
      " \u001b[1m※本站目前暫停開放新帳號註冊。\u001b[m\n",
      "\u001b[21;1H\u001b[K\u001b[m請輸入代號，或以 guest 參觀，或以 new 註冊: \u001b[7m              \b\b\b\b\b\b\b\b\b\b\b\b\b\b\n",
      "andy086\u001b[m\u001b[22;1H\u001b[K\u001b[m請輸入您的密碼: \u0007\n",
      "\u001b[22;1H\u001b[K\u001b[m正在檢查帳號與密碼...\u001b[22;1H\u001b[K\u001b[m密碼正確！ 開始登入系統...\n",
      "正在更新與同步線上使用者及好友名單，系統負荷量大時會需時較久....\n",
      "\u001b[H\u001b[2J\u001b[1;43H\u001b[30m▄   \u001b[32m\u001b[42me\u001b[0;1;37;42m︵\u001b[0;30;42m \u001b[32m▄\u001b[0;30m▄▄\u001b[32m▄\u001b[30;42m   \u001b[0;1;37;42m、／\u001b[0;30;42m   \u001b[0;32m▉\n",
      "\u001b[0;1;37m    ▇▇▅▃  ▉  ˍ▆▆▂  ◣    ▊      \u001b[m　\u001b[32m　\u001b[30m\u001b[32;42me\u001b[0;1;37;42mσ＼\u001b[0;32;42m▄\u001b[0;32me\u001b[42m▄\u001b[30m \u001b[32m▄▄\u001b[0;1;37;42m／\u001b[0;30;42m \u001b[0;1;37;42m”\u001b[0;32;42m\u001b[30me\u001b[0;30m ▄ \n",
      "\u001b[0;1;37m    █    █  ▉  █    █  █    ▉            \u001b[0;30;42m▄\u001b[32m▄\u001b[0;1;37;42m＼\u001b[0;32;42m \u001b[30m \u001b[32m \u001b[30m \u001b[32m▄\u001b[0;1;37;42m／ ’\u001b[0;30;42m▄\u001b[0;30m▄\u001b[4;5H\u001b[m█▆▄◤  █  █\u001b[4;29H█▅▅▉     \u001b[32m         \u001b[30m\u001b[42me▄\u001b[32m▄\u001b[30m      ▄\u001b[0;30m▄\n",
      "\u001b[m　　█　　◣　█　█　　▂　█　　▉\u001b[1;37m      \u001b[5;56H\u001b[0;30;42m▏   \u001b[0;32m▍\n",
      "\u001b[m　　█　　█　◤　◥██◤　◥　　▉\u001b[6;46H\u001b[32m   ◢\u001b[42m              \u001b[0;32m◣\n",
      "\u001b[m　  　　　　　　　　　　  \u001b[1;35m職場體驗網   \u001b[36m    \u001b[0;30m \u001b[32m◢\u001b[42m             \u001b[0;42m         \u001b[0;32m◣\u001b[8;15H\u001b[1mhttp://rich.yda.gov.tw   \u001b[0;32m  ◢\u001b[42m        \u001b[47m◤       ◥\u001b[30;42m         \u001b[0;32m◣\u001b[9;36H    ◢\u001b[42m      \u001b[47m◤               ◥\u001b[30;42m       \u001b[0;32m◣\u001b[10;35H     \u001b[42m  \u001b[31m  \u001b[32;47m◤ \u001b[30m▅▄\u001b[32m   \u001b[0;47m       \u001b[32m \u001b[30m▄▅\u001b[32m   ◥\u001b[30;42m  \u001b[32m  \u001b[1;36m \u001b[11;5H\u001b[0;1;37m找經驗?全國\u001b[33m上千工讀機會\u001b[0;1;37m由你選!   \u001b[0;30;42m▊\u001b[32m  \u001b[47m◤ \u001b[30m         \u001b[0;47m \u001b[30m    \u001b[0;1;37;47m \u001b[0;30;47m       \u001b[0;47m  \u001b[32m  ◥\u001b[30;42m  \u001b[31m \u001b[0;32m▏\u001b[12;5H\u001b[m找見習?\u001b[1;35m公部門見習職缺\u001b[m任你挑!     \u001b[30;42m▍  \u001b[47m    ◢█◣   \u001b[0;47m \u001b[30m     ◢█◣      \u001b[42m   \u001b[0;32m▎\n",
      "\u001b[m　  \u001b[1;37m找實力?豐富內容助你成為\u001b[33m職場達人\u001b[0;1;37m! \u001b[0;30;42m▎\u001b[32m█\u001b[30;47m    \u001b[0;1;37m●\u001b[0;30m█\u001b[47m█         \u001b[0;1;37m●\u001b[0;30m██\u001b[47m      \u001b[42m   \u001b[0;32m▎\u001b[14;38H\u001b[30;42m▎\u001b[0;42m \u001b[30m \u001b[47m    ◥█◤\u001b[0;47m  \u001b[30m  \u001b[0;47m     \u001b[30m◥█◤      \u001b[42m   \u001b[0;32m▍\u001b[15;38H\u001b[30;42m▏\u001b[32m█\u001b[30;47m      \u001b[32m   \u001b[30m \u001b[32m  \u001b[30m╰﹣\u001b[0;47m   \u001b[32m    \u001b[0;47m \u001b[33m       \u001b[42m   \u001b[0;32m▍\u001b[16;5H\u001b[1;36m教育部青年署 RICH職場體驗網      \u001b[0;30;42m▏\u001b[32m█\u001b[30;47m      \u001b[32m  \u001b[0;1;37;41m              \u001b[0;32;47m  \u001b[30m \u001b[33m      \u001b[42m   \u001b[0;32m▍\n",
      "\u001b[30m    \u001b[0;1;37m幫你在校找工讀              \u001b[0;30m     \u001b[42m▏\u001b[32m█\u001b[30;47m      \u001b[32m  \u001b[31m◥\u001b[1;36;41m          \u001b[0;31;47m◤\u001b[32m \u001b[0;47m \u001b[33m       \u001b[42m   \u001b[0;32m▍\u001b[18;27H\u001b[30m            \u001b[32;42m█ \u001b[30;47m    \u001b[32m   \u001b[0;1;37;47m   \u001b[5;31m \u001b[0;41m▆▆▆▆\u001b[1;5;31;47m           \u001b[0;30;47m \u001b[32;42m█\u001b[0;32m▋\u001b[m\n",
      "\n",
      "\n",
      "\n",
      "\n",
      "\n",
      "\u001b[21;7H歡迎您再度拜訪，上次您是從 \u001b[1;33m49.216.44.116 \u001b[m連往本站。\n",
      "\n",
      "\n",
      "\u001b[1;34;44m ▄▄▄▄▄▄▄▄▄▄▄▄▄▄▄\u001b[0;1;37;44m 請按任意鍵繼續 \u001b[34m▄▄▄▄▄▄▄▄▄▄▄▄▄▄▄  \u001b[m\n",
      "\u001b[H\u001b[1;37;44m【主功能表】                     \u001b[33m批踢踢實業坊\u001b[0;1;37;44m                                  \n",
      "\u001b[47m███████████████████████████████████████\n",
      "\u001b[0;33;47m▅▆▆\u001b[1;36;43m◥\u001b[47m███████████████████████████████████\n",
      "\u001b[0;30;43m     -─`     \u001b[1;36m￣￣￣      ￣￣￣    ￣￣                  ￣￣￣\u001b[30m￣￣\u001b[36m￣        \n",
      "\u001b[0;43m            \u001b[31m▂▃\u001b[1;30m     ︱       ｜        ＼     \u001b[0;30;43m｜     \\                   ∣  \n",
      " \\_   ／ \u001b[33;41m◤\u001b[0;41m▂ \u001b[31;43m▊\u001b[34m。\u001b[30m   /  ／  ﹍ ＼  \u001b[1mL_         \u001b[0;30;43m|        |  ⊥       \u001b[1m｜   \u001b[0;30;43m.∠   \n",
      "   ╳    \u001b[31;47m▊\u001b[30m˙\u001b[0;41m▎\u001b[33m◤\u001b[31;43m▎\u001b[30m`┐ │,   ︳▁   -.︿   ／  ` _︳ ∣ .  _x_    \\   ｜ ╲ \n",
      " L  \u001b[36m_▄\u001b[41m▊\u001b[30m\\ \u001b[31;47m▆\u001b[1;36;41m'    \u001b[0;30;43m N ＼_7_︷-+┤ ↖╳   〉┬'┌‵√ 7╴.-！′   `┬+┼=.／= ╴\n",
      "┤ \u001b[33;46m▄ \u001b[31m▄\u001b[30;41m, ╲,_  \u001b[33m◢\u001b[30;43m│\\_╱▏\\_／_﹀  _;}—L  ↘_〕-_╳  |   ＼__F ↙  ﹍] ▏_／ \n",
      " ╲\u001b[32mr\u001b[46m▎\u001b[31m◥\u001b[30;41m〃└\u001b[34m_\u001b[36m▄\u001b[31;43m〞\u001b[30m↗╳ ▕_ ┘╳ ╲_↙▎↙↑_▕  ,┼▕  ＼  ﹀`  ▎`￣  ↖￣} ╲\n",
      " r┘ \u001b[33;46m▄ \u001b[31m◥\u001b[33m▃▆\u001b[30;43m┬憓| ▎  ╲ ` ▏├  ￣\\  ’︺▏\u001b[35m可不可以偶爾下雨不必永遠晴天...\n",
      "\u001b[m\u001b[K\n",
      "───────── 上方為使用者心情點播留言區，不代表本站立場 ────────\u001b[14;23H(\u001b[1;36mA\u001b[m)nnounce     【 精華公佈欄 】\u001b[K\u001b[15;23H(\u001b[1;36mF\u001b[m)avorite     【 我 的 最愛 】\u001b[K\u001b[16;5H                ●(\u001b[1;36mC\u001b[m)lass        【 分組討論區 】\u001b[K\n",
      "                      (\u001b[1;36mM\u001b[m)ail         【 私人信件區 】\u001b[K\u001b[18;23H(\u001b[1;36mT\u001b[m)alk         【 休閒聊天區 】\u001b[K\u001b[19;23H(\u001b[1;36mU\u001b[m)ser\u001b[19;38H【 個人設定區 】\u001b[20;23H(\u001b[1;36mX\u001b[m)yz\u001b[20;38H【 系統資訊區 】\u001b[21;7H                (\u001b[1;36mP\u001b[m)lay         【 娛樂與休閒 】\u001b[K\u001b[22;23H(\u001b[1;36mN\u001b[m)amelist     【 編特別名單 】\u001b[23;23H(\u001b[1;36mG\u001b[m)oodbye\u001b[23;41H離開，再見…\n",
      "\u001b[34;46m[12/29 星期天 16:38]\u001b[1;33;45m [ 射手時 ]   \u001b[30;47m 線上\u001b[31m96498\u001b[30m人, 我是\u001b[31mandy086\u001b[30m       [呼叫器]\u001b[31m打開 \u001b[m\u001b[16;22H\n",
      "\u001b[1;3H\u001b[1;37;44m分類看板\n",
      "\u001b[m                                                              ◣  ╭—\u001b[33m●\u001b[m\u001b[K\n",
      "\u001b[33m                                                    寣X  \u001b[m ◢█\u001b[47m☉\u001b[m██◣\u001b[K\n",
      "  \u001b[44m   ︿︿︿︿︿︿︿︿                               \u001b[33m\u001b[0;44m ◣◢███▼▼▼ \u001b[m\u001b[K\n",
      "  \u001b[44m                                                  \u001b[33m  \u001b[0;44m ◤◥███▲▲▲ \u001b[m\u001b[K\n",
      "                                  ︿︿︿︿︿︿︿︿    \u001b[33m│\u001b[m   ◥████◤ \u001b[K\n",
      "                                                      \u001b[33m鞳X—\u001b[m  ◤      —＋\u001b[K\n",
      "          ●    1   市民廣場     報告站長 PTT咬我\u001b[K\n",
      "                2   臺灣大學     臺大, 臺大, 臺大            [paullai/s75\u001b[K\n",
      "                3   政治大學     政大, 政大, 政大            [steve1121/s\u001b[K\n",
      "                4   青蘋果樹     校園, 班板, 社團            [dreamwave/f\u001b[K\u001b[12;17H5   活動中心     社團, 聚會, 團體\u001b[12;62H[dreamwave/s\n",
      "                6   視聽劇場     偶像, 音樂, 廣電            [skydreaming\u001b[K\u001b[14;17H7   戰略高手     遊戲, 數位, 程設    \u001b[14;62H[a3225737]\u001b[15;17H8   卡漫夢工廠   卡通, 漫畫, 動畫    \u001b[15;62H[sitos]\u001b[16;17H9   生活娛樂館   生活, 娛樂, 心情    \u001b[16;62H[GeminiMan]\u001b[17;16H10   國家研究院   政治, 文學, 學術    \u001b[17;62H[JosephChen/\u001b[18;16H11   國家體育場   汗水, 鬥志, 膽識    \u001b[18;62H[RJJ]\u001b[19;16H12       --> 即時熱門看板 <--\u001b[K\n",
      "\u001b[K\n",
      "\u001b[K\n",
      "\u001b[K\n",
      "\u001b[K\n",
      "\u001b[K\u001b[8;12H\n",
      "\u001b[H\u001b[K\n",
      "\u001b[K\n",
      "\u001b[K\n",
      "\u001b[K\n",
      "\u001b[K\n",
      "\u001b[K\n",
      "\u001b[K\n",
      "\u001b[K\n",
      "\u001b[K\n",
      "\u001b[K\n",
      "\u001b[K\n",
      "\u001b[K\n",
      "\u001b[K\n",
      "\u001b[K\n",
      "\u001b[K\n",
      "\u001b[K\n",
      "\u001b[K\n",
      "\u001b[K\n",
      "\u001b[K\n",
      "\n",
      "\n",
      "\n",
      "\n",
      "\u001b[1;34;44m ▄▄▄▄▄▄▄▄▄▄▄▄▄▄▄\u001b[0;1;37;44m 請按任意鍵繼續 \u001b[34m▄▄▄▄▄▄▄▄▄▄▄▄▄▄▄  \u001b[m\n",
      "\u001b[H\u001b[1;37;44m【板主:arsonlolita/xianyao/Bigna..】\u001b[33m【八卦】請協助置底協尋\u001b[0;1;37;44m    \u001b[32m系列《Gossiping》\n",
      "\u001b[m[←]離開 [→]閱讀 [Ctrl-P]發表文章 [d]刪除 [z]精華區 [i]看板資訊/設定 [h]說明\n",
      "\u001b[30;47m   編號    日 期 作  者       文  章  標  題                       人氣:22796  \u001b[4;7H\u001b[m4 +\u001b[1;32m 4\u001b[m12/18 \u001b[1;37mzxcv820421   \u001b[mR: [爆卦] LIVE 2020總統選舉電視政見發表會\u001b[5;7H5 +\u001b[1;32m 2\u001b[m12/18 \u001b[1;37mqwqwaas      \u001b[mR: [爆卦] LIVE 2020總統選舉電視政見發表會\u001b[6;7H6 +\u001b[1;33m67\u001b[m12/18 \u001b[1;37mDreamYeh     \u001b[mR: [爆卦] LIVE 2020總統選舉電視政見發表會\u001b[7;7H7 +\u001b[1;30m  \u001b[m12/18 OpenGoodHate R: [爆卦] LIVE 2020總統選舉電視政見發表會\u001b[8;7H8 +\u001b[1;32m 2\u001b[m12/18 hihimen      R: [爆卦] LIVE 2020總統選舉電視政見發表會\u001b[9;7H9 +\u001b[1;33m17\u001b[m12/18 trylin       R: [爆卦] LIVE 2020總統選舉電視政見發表會\u001b[10;6H10 +\u001b[1;33m99\u001b[m12/18 autokey      R: [爆卦] LIVE 2020總統選舉電視政見發表會\u001b[11;6H11 +\u001b[1;30m  \u001b[m12/18 \u001b[1;37mnefrain01    \u001b[mR: [爆卦] LIVE 2020總統選舉電視政見發表會\u001b[12;6H12 +\u001b[1;32m 8\u001b[m12/18 misaka0120   R: [爆卦] LIVE 2020總統選舉電視政見發表會\u001b[13;6H13 +\u001b[1;33m86\u001b[m12/18 final951753  R: [爆卦] LIVE 2020總統選舉電視政見發表會\u001b[14;6H14 +\u001b[1;33m20\u001b[m12/18 \u001b[1;37makka5678     \u001b[mR: [爆卦] LIVE 2020總統選舉電視政見發表會\u001b[15;6H15 +\u001b[1;33m51\u001b[m12/18 spending     R: [爆卦] LIVE 2020總統選舉電視政見發表會\u001b[16;6H16 +\u001b[1;30mX1\u001b[m12/18 Ghamu\u001b[16;31HR: [爆卦] LIVE 2020總統選舉電視政見發表會\u001b[17;6H17 +\u001b[1;32m 3\u001b[m12/18 \u001b[1;37mjeans520     \u001b[mR: [爆卦] LIVE 2020總統選舉電視政見發表會\u001b[18;6H18 +\u001b[1;32m 8\u001b[m12/18 \u001b[1;37mgogoto990    \u001b[mR: [爆卦] LIVE 2020總統選舉電視政見發表會\u001b[19;6H19 +\u001b[1;33m12\u001b[m12/18 wiy50870     R: [爆卦] LIVE 2020總統選舉電視政見發表會\u001b[20;6H20 +\u001b[1;33m13\u001b[m12/18 limitex      R: [爆卦] LIVE 2020總統選舉電視政見發表會\u001b[21;6H21 +\u001b[1;32m 7\u001b[m12/18 \u001b[1;37mlinhunk      \u001b[mR: [爆卦] LIVE 2020總統選舉電視政見發表會\u001b[22;6H22 +\u001b[1;30m  \u001b[m12/19 g56\u001b[22;31HR: [爆卦] LIVE 2020總統選舉電視政見發表會\n",
      "●   23 +\u001b[1;32m 5\u001b[m12/22 \u001b[1;37mppptofff     \u001b[mR: [爆卦] LIVE 2020總統選舉電視政見發表會\n",
      "\u001b[34;46m 文章選讀 \u001b[30;47m \u001b[31m(y)\u001b[30m回應\u001b[31m(X)\u001b[30m推文\u001b[31m(^X)\u001b[30m轉錄 \u001b[31m(=[]<>)\u001b[30m相關主題\u001b[31m(/?a)\u001b[30m找標題/作者 \u001b[31m(b)\u001b[30m進板畫面  \u001b[m\u001b[23;2H\n"
     ]
    },
    {
     "data": {
      "application/vnd.jupyter.widget-view+json": {
       "model_id": "6ddc2dd9e97c4d8ab0c891cd59e667f2",
       "version_major": 2,
       "version_minor": 0
      },
      "text/plain": [
       "HBox(children=(IntProgress(value=0, max=400), HTML(value='')))"
      ]
     },
     "metadata": {},
     "output_type": "display_data"
    },
    {
     "name": "stdout",
     "output_type": "stream",
     "text": [
      "\n"
     ]
    }
   ],
   "source": [
    "# https://www.ptt.cc/bbs/Gossiping/M.1576666833.A.A2B.html\n",
    "tag, userid, text, others = [], [], [], []\n",
    "\n",
    "host = 'ptt.cc'\n",
    "user = getpass.getpass('請輸入帳號')\n",
    "password = getpass.getpass('請輸入密碼')\n",
    "\n",
    "\n",
    "telnet = telnetlib.Telnet(host)\n",
    "time.sleep(1)\n",
    "content = telnet.read_very_eager().decode('big5','ignore')\n",
    "print(content)\n",
    "\n",
    "if u\"請輸入代號\" in content:\n",
    "    \n",
    "    telnet.write((user + \"\\r\\n\" ).encode('big5'))\n",
    "    time.sleep(1)\n",
    "\n",
    "    content = telnet.read_very_eager().decode('big5','ignore')\n",
    "\n",
    "    print(content)\n",
    "\n",
    "    if u\"請輸入您的密碼\" in content:\n",
    "\n",
    "        telnet.write((password + \"\\r\\n\" ).encode('big5'))\n",
    "        time.sleep(1)\n",
    "\n",
    "        content = telnet.read_very_eager().decode('big5','ignore')\n",
    "\n",
    "        print(content)\n",
    "\n",
    "        if u\"請按任意鍵繼續\" in content:\n",
    "\n",
    "            telnet.write((\"\\r\\n\" ).encode('big5'))\n",
    "            time.sleep(2)\n",
    "            content = telnet.read_very_eager().decode('big5','ignore')\n",
    "            print(content)\n",
    "            telnet.write((\"C\" + \"\\r\\n\" ).encode('big5'))\n",
    "            time.sleep(2)\n",
    "            content = telnet.read_very_eager().decode('big5','ignore')\n",
    "            print(content)\n",
    "            telnet.write((\"12\" + \"\\r\\n\" + \"\\r\\n\" + \"\\r\\n\" + \"\\r\\n\").encode('big5'))\n",
    "            time.sleep(2)\n",
    "            content = telnet.read_very_eager().decode('big5','ignore')\n",
    "            print(content)\n",
    "            telnet.write((\"(\" + \"/\" + \"LIVE 2020總統選舉電視政見發表會\" + \"\\r\\n\").encode('big5'))\n",
    "            time.sleep(2)\n",
    "            content = telnet.read_very_eager().decode('big5','ignore')\n",
    "            print(content)\n",
    "            telnet.write((\"1\" + \"\\r\\n\" + \"\\r\\n\").encode('big5'))\n",
    "            time.sleep(2)\n",
    "            content = telnet.read_very_eager().decode('big5','ignore')\n",
    "#             print(content)\n",
    "            telnet.write((\"\\r\\n\"*41).encode('big5'))\n",
    "            time.sleep(2)\n",
    "            content = telnet.read_very_eager().decode('big5','ignore')\n",
    "#             print(content)\n",
    "            result = ansi_escape.sub('', content)\n",
    "            for info in result.replace('\\n','').split('\\r')[:-1]:\n",
    "                try:\n",
    "                    tag.append(info[0])\n",
    "                    userid.append(info.split(':')[0][2:])\n",
    "                    text.append(info.split(':')[1].split('  ')[0])\n",
    "                    others.append(info.split('  ')[-1])\n",
    "                except:\n",
    "                    pass\n",
    "            for i in tqdm_notebook(range(0,400)):\n",
    "                try:\n",
    "                    telnet.write((\"\\r\\n\"*23).encode('big5'))\n",
    "                    time.sleep(2)\n",
    "                    content = telnet.read_very_eager().decode('big5','ignore')\n",
    "                    result = ansi_escape.sub('', content)\n",
    "                    for info in result.replace('\\n','').split('\\r')[:-1]:\n",
    "                        try:\n",
    "                            tag.append(info[0])\n",
    "                            userid.append(info.split(':')[0][2:])\n",
    "                            text.append(info.split(':')[1].split('  ')[0])\n",
    "                            others.append(info.split('  ')[-1])\n",
    "                        except:\n",
    "                            pass\n",
    "                except:\n",
    "                    pass"
   ]
  },
  {
   "cell_type": "code",
   "execution_count": 4,
   "metadata": {
    "collapsed": false
   },
   "outputs": [],
   "source": [
    "df = pd.DataFrame(list(zip(tag, userid, text, others)), columns=['tag', 'userid', 'text', 'others'])"
   ]
  },
  {
   "cell_type": "code",
   "execution_count": 5,
   "metadata": {
    "collapsed": false
   },
   "outputs": [
    {
     "data": {
      "text/plain": [
       "9093"
      ]
     },
     "execution_count": 5,
     "metadata": {},
     "output_type": "execute_result"
    }
   ],
   "source": [
    "len(df)"
   ]
  },
  {
   "cell_type": "code",
   "execution_count": 14,
   "metadata": {
    "collapsed": false
   },
   "outputs": [],
   "source": [
    "df.to_pickle('ptt_1218.pkl')"
   ]
  },
  {
   "cell_type": "markdown",
   "metadata": {},
   "source": [
    "### 第二場政見發表會"
   ]
  },
  {
   "cell_type": "code",
   "execution_count": 19,
   "metadata": {
    "code_folding": [],
    "collapsed": false
   },
   "outputs": [
    {
     "name": "stdout",
     "output_type": "stream",
     "text": [
      "請輸入帳號········\n",
      "請輸入密碼········\n",
      "HTTP/1.1 200 OK\n",
      "\n",
      "     ˙      \u001b[33;1mPTT\u001b[m                ·   ◣        ·  ˙      \u001b[1m◢\u001b[47m██████\u001b[40m◤\u001b[m\n",
      "             \u001b[1m140.112.172.11 \u001b[m·     ◢\u001b[47m█\u001b[1m◥\u001b[40m█◤\u001b[m            \u001b[1m◢\u001b[47m█████\u001b[m\n",
      "  ┌─┐     \u001b[33;1m批踢踢實業坊\u001b[m        ◢\u001b[30;47m▃\u001b[37m██\u001b[1m◥█\u001b[40m◤\u001b[m   ·   \u001b[1m◢\u001b[47m█████\u001b[40m◤  \u001b[m·\u001b[m\n",
      "  │\u001b[1m–\u001b[m└┐   \u001b[1mptt.cc       \u001b[m     ◢\u001b[47m█████\u001b[1m◥\u001b[40m█◤\u001b[m    \u001b[1m◢\u001b[47m█████\u001b[m\n",
      "  │\u001b[1m–\u001b[m  │                   ◢\u001b[47m███\u001b[40m◤\u001b[47m███\u001b[1m◥\u001b[40m◤\u001b[m  \u001b[1m◢\u001b[47m█████\u001b[40m◤  \u001b[m˙  ·\u001b[m\n",
      "─┘    │┌──┐  ·       ◥◤      \u001b[47m████\u001b[40m◣\u001b[1m◢\u001b[47m████\u001b[40m    \u001b[m·\u001b[m\n",
      "        └┤  \u001b[33;1m–\u001b[m│      ·           ◢\u001b[47m████\u001b[1m◢███\u001b[40m◤            \u001b[m·\u001b[m\n",
      "                │┌───┐         \u001b[47m█████\u001b[40m▇▇▆▆▅▅▄▄▃▂▁\u001b[m\n",
      "            ┌─┴┘\u001b[1m–\u001b[33m–\u001b[m  └ ◢\u001b[47m█████\u001b[40m▇▇▆▆▅▅▄▄▃▃▂▂▁\u001b[m\n",
      "            │\u001b[1m––\u001b[m           ◥\u001b[47m██\u001b[40m      █▇▇▆▆▅▅▄▄▃▂▁\u001b[m\n",
      "\u001b[H\u001b[2J\u001b[47m     \u001b[44m\u001b[47m          \u001b[44m◣               \u001b[1;30m/\u001b[37m／  \u001b[30m\\\u001b[37m\\\u001b[;34;44m\u001b[31m\u001b[41m \u001b[44m◣ ◥\u001b[33;41m      ▁▂▃▄▅▄▃▂▁       \u001b[m\n",
      "\u001b[47m                     \u001b[44m◣           \u001b[1;30m\\\u001b[37m＼  \u001b[30m/\u001b[37m/  \u001b[;31;44m◥\u001b[34;41m   \u001b[31;44m\u001b[33;41m   ◢\u001b[43m                  \u001b[41m◣  \u001b[1;30m{  \u001b[m\n",
      "\u001b[1;30;47m    ▃\u001b[;47mc              \u001b[44m\u001b[47m   \u001b[44m◣     \u001b[1;30m/\u001b[37m／︾ \u001b[;31;44m▂    \u001b[41m   \u001b[33m◢\u001b[1;31;43m υ                   \u001b[;33;41m◣   \u001b[m\n",
      "\u001b[1;30;47m      ◥◣          \u001b[;47m\u001b[1;30mc▃      \u001b[;44m◣  \u001b[1;30m\\\u001b[37m\\ \u001b[;31;44m◢\u001b[41m    \u001b[44m◣◢\u001b[41m    \u001b[1;43m                     ι   \u001b[41m   \u001b[m\n",
      "\u001b[1;30;47m         \u001b[;47m       \u001b[1;30m◢◤          \u001b[;44m\u001b[34mf\u001b[1;30m/\u001b[37m／  \u001b[;31;44m◥\u001b[41m         \u001b[30;43m      ◢◣        ◢◣      \u001b[41m  \u001b[m\n",
      "\u001b[30;47m   ◢\u001b[40m  \u001b[47m◣    \u001b[1m北  \u001b[;47m\u001b[1;30m              \u001b[;44m◣\u001b[30m＼\u001b[1;37m══ \u001b[;31;44m\u001b[41m  \u001b[1;30m\\  \u001b[43m       \u001b[;1m  \u001b[43m        \u001b[40m  \u001b[43m   \u001b[31mν  \u001b[41m \u001b[m\n",
      "\u001b[1;47m   \u001b[40m    \u001b[30;47m    ↑   \u001b[;30;47m◢\u001b[40m  \u001b[47m◣           \u001b[;44m▎ \u001b[1;30m\u001b[37m   \u001b[;34;44m\u001b[41m    \u001b[30;43m       ◥◤        ◥◤       \u001b[41m \u001b[m\n",
      "\u001b[30;47m    ◥\u001b[40m \u001b[47m◤         \u001b[1;37m\u001b[40m    \u001b[47m           \u001b[;44m▍ \u001b[30m//   \u001b[31m◥\u001b[41m    \u001b[43m                              \u001b[41m \u001b[m\n",
      "\u001b[30;47m                   ◥\u001b[40m \u001b[47m◤          \u001b[;44m\u001b[34m\u001b[1;37m==\u001b[;31;44m▁◢\u001b[41m     \u001b[43m    \u001b[1;41m////\u001b[43m              \u001b[41m////\u001b[43m    \u001b[41m \u001b[m\n",
      "\u001b[1;47m  ◢       \u001b[30m＼                  踢\u001b[;47m\u001b[44m  \u001b[1;30m!\u001b[37m!    \u001b[;31;44m◢\u001b[41m     \u001b[43m                            \u001b[41m  \u001b[m\n",
      "\u001b[1;47m  ▍         \u001b[30m\\ \u001b[;30;47m◢\u001b[37m  \u001b[1;30m╭╮批 踢     \u001b[;44m\u001b[34m\u001b[30m/\u001b[31m▄▆\u001b[1;30;41m   ∼    \u001b[43m       \u001b[;33m◣         ◢\u001b[43m      \u001b[41m   \u001b[m\n",
      "\u001b[47m \u001b[1m          \u001b[30m\u001b[37mb\u001b[;30;47m◥\u001b[37m\u001b[1;30m＼_-╯╮         \u001b[;44m\u001b[34m\u001b[1;37m` ﹏ \u001b[;34;41m▅◣    \u001b[33m◥\u001b[43m                      \u001b[41m◤   \u001b[m\n",
      "\u001b[1;30;47m             /     \\_--╮╯     坊   \u001b[44m / \u001b[37m\u001b[30mg\u001b[37m\\   \u001b[;34;41m◤ \u001b[1;30m'   \u001b[;33;41m◥\u001b[43m                  \u001b[41m◤   \u001b[31;44m▊\u001b[m\n",
      "\u001b[47m  \u001b[44m\u001b[47m       \u001b[1;30m／        ╰╯ 實 業    \u001b[;44m◤\u001b[1;30m| \u001b[37m[    \u001b[;34;41m◤   \u001b[31;44m\u001b[41m \u001b[1;30m/  \u001b[;31;43m▇▆▅▄▃▄▅▆▇\u001b[1;30;41m  ;  \u001b[;31;44m▎\u001b[m\n",
      "\u001b[34;44m\u001b[37m \u001b[34;47m▇▅▆\u001b[44m \u001b[47m▅▄▃▄▅▄▃▂▁▂▃▄\u001b[1;30;44m   ↘\u001b[37m\\__\u001b[30m/\u001b[;34;41m▆▇\u001b[44m  \u001b[31m\u001b[1;30;41m               /           \u001b[;31;44m▍\u001b[m\n",
      "\u001b[34;44m  ▃▃                             \u001b[1;30m／ \u001b[37m\u001b[30m_\u001b[37m︸ \u001b[32m      \u001b[41m \u001b[;31;44m◤\u001b[1;30;41m  \"  \u001b[;34;41m▄\u001b[31;44m◥\u001b[1;30;41m \\\\   \u001b[;31;44m\u001b[34;41m \u001b[31;44m  ◥\u001b[41m  \u001b[44m▌\u001b[m\n",
      "\u001b[1;30;44m                                  ︰\u001b[32m\u001b[37m]  __        \u001b[;34;44m\u001b[41m\u001b[44m \u001b[31m\u001b[41m\u001b[44m哈   \u001b[34m\u001b[31m\u001b[41m   \u001b[44m◤ ◥\u001b[41m \u001b[44m    ◥ \u001b[m\n",
      "\u001b[1;30;44mψauhu                             \\\u001b[;30;44m＼\u001b[1;37m\u001b[30m`\u001b[37m／            \u001b[;34;44m\u001b[31m         ◥             \u001b[m\n",
      "            歡迎來到 \u001b[1;33m批踢踢實業坊 \u001b[m目前有【\u001b[1;33m98283\u001b[m】位使用者在線上\n",
      "\n",
      "\n",
      "\n",
      " \u001b[1m※本站目前暫停開放新帳號註冊。\u001b[m\n",
      "\u001b[21;1H\u001b[K\u001b[m請輸入代號，或以 guest 參觀，或以 new 註冊: \u001b[7m              \b\b\b\b\b\b\b\b\b\b\b\b\b\b\n",
      "andy086\u001b[m\u001b[22;1H\u001b[K\u001b[m請輸入您的密碼: \u0007\n",
      "\u001b[22;1H\u001b[K\u001b[m正在檢查帳號與密碼...\u001b[22;1H\u001b[K\u001b[m密碼正確！ 開始登入系統...\n",
      "正在更新與同步線上使用者及好友名單，系統負荷量大時會需時較久....\n",
      "\u001b[H\u001b[2J\u001b[1;36m** 站內信箱僅供與站內其它使用者訊息交流，或方便與它站交換資料。\n",
      "   請各位使用者別把站內信箱拿來當熱門看板永久備份空間超收上千或上萬封文件，\n",
      "\u001b[24;1H\u001b[21;7H歡迎您再度拜訪，上次您是從 \u001b[1;33m111.250.146.60 \u001b[m連往本站。\n",
      "\n",
      "\n",
      "\u001b[1;34;44m ▄▄▄▄▄▄▄▄▄▄▄▄▄▄▄\u001b[0;1;37;44m 請按任意鍵繼續 \u001b[34m▄▄▄▄▄▄▄▄▄▄▄▄▄▄▄  \u001b[m\n",
      "\u001b[H\u001b[1;37;44m【主功能表】                     \u001b[33m批踢踢實業坊\u001b[0;1;37;44m                                  \n",
      "\u001b[47m███████████████████████████████████████\n",
      "\u001b[0;33;47m▅▆▆\u001b[1;36;43m◥\u001b[47m███████████████████████████████████\n",
      "\u001b[0;30;43m     -─`     \u001b[1;36m￣￣￣      ￣￣￣    ￣￣                  ￣￣￣\u001b[30m￣￣\u001b[36m￣        \n",
      "\u001b[0;43m            \u001b[31m▂▃\u001b[1;30m     ︱       ｜        ＼     \u001b[0;30;43m｜     \\                   ∣  \n",
      " \\_   ／ \u001b[33;41m◤\u001b[0;41m▂ \u001b[31;43m▊\u001b[34m。\u001b[30m   /  ／  ﹍ ＼  \u001b[1mL_         \u001b[0;30;43m|        |  ⊥       \u001b[1m｜   \u001b[0;30;43m.∠   \n",
      "   ╳    \u001b[31;47m▊\u001b[30m˙\u001b[0;41m▎\u001b[33m◤\u001b[31;43m▎\u001b[30m`┐ │,   ︳▁   -.︿   ／  ` _︳ ∣ .  _x_    \\   ｜ ╲ \n",
      " L  \u001b[36m_▄\u001b[41m▊\u001b[30m\\ \u001b[31;47m▆\u001b[1;36;41m'    \u001b[0;30;43m N ＼_7_︷-+┤ ↖╳   〉┬'┌‵√ 7╴.-！′   `┬+┼=.／= ╴\n",
      "┤ \u001b[33;46m▄ \u001b[31m▄\u001b[30;41m, ╲,_  \u001b[33m◢\u001b[30;43m│\\_╱▏\\_／_﹀  _;}—L  ↘_〕-_╳  |   ＼__F ↙  ﹍] ▏_／ \n",
      " ╲\u001b[32mr\u001b[46m▎\u001b[31m◥\u001b[30;41m〃└\u001b[34m_\u001b[36m▄\u001b[31;43m〞\u001b[30m↗╳ ▕_ ┘╳ ╲_↙▎↙↑_▕  ,┼▕  ＼  ﹀`  ▎`￣  ↖￣} ╲\n",
      " r┘ \u001b[33;46m▄ \u001b[31m◥\u001b[33m▃▆\u001b[30;43m┬憓| ▎  ╲ ` ▏├  ￣\\  ’︺▏\u001b[35m可不可以偶爾下雨不必永遠晴天...\n",
      "\n",
      "\u001b[m───────── 上方為使用者心情點播留言區，不代表本站立場 ────────\u001b[14;23H(\u001b[1;36mA\u001b[m)nnounce     【 精華公佈欄 】\u001b[15;23H(\u001b[1;36mF\u001b[m)avorite     【 我 的 最愛 】\u001b[16;21H●(\u001b[1;36mC\u001b[m)lass\u001b[16;38H【 分組討論區 】\u001b[17;23H(\u001b[1;36mM\u001b[m)ail\u001b[17;38H【 私人信件區 】\u001b[18;23H(\u001b[1;36mT\u001b[m)alk\u001b[18;38H【 休閒聊天區 】\u001b[19;23H(\u001b[1;36mU\u001b[m)ser\u001b[19;38H【 個人設定區 】\u001b[20;23H(\u001b[1;36mX\u001b[m)yz\u001b[20;38H【 系統資訊區 】\u001b[21;7H                (\u001b[1;36mP\u001b[m)lay         【 娛樂與休閒 】\u001b[K\u001b[22;23H(\u001b[1;36mN\u001b[m)amelist     【 編特別名單 】\u001b[23;23H(\u001b[1;36mG\u001b[m)oodbye\u001b[23;41H離開，再見…\n",
      "\u001b[34;46m[12/29 星期天 19:55]\u001b[1;33;45m [ 魔羯時 ]   \u001b[30;47m 線上\u001b[31m98303\u001b[30m人, 我是\u001b[31mandy086\u001b[30m       [呼叫器]\u001b[31m打開 \u001b[m\u001b[16;22H\n",
      "\u001b[1;3H\u001b[1;37;44m分類看板\n",
      "\u001b[m                                                              ◣  ╭—\u001b[33m●\u001b[m\u001b[K\n",
      "\u001b[33m                                                    寣X  \u001b[m ◢█\u001b[47m☉\u001b[m██◣\u001b[K\n",
      "  \u001b[44m   ︿︿︿︿︿︿︿︿                               \u001b[33m\u001b[0;44m ◣◢███▼▼▼ \u001b[m\u001b[K\n",
      "  \u001b[44m                                                  \u001b[33m  \u001b[0;44m ◤◥███▲▲▲ \u001b[m\u001b[K\n",
      "                                  ︿︿︿︿︿︿︿︿    \u001b[33m│\u001b[m   ◥████◤ \u001b[K\n",
      "                                                      \u001b[33m鞳X—\u001b[m  ◤      —＋\u001b[K\n",
      "          ●    1   市民廣場     報告站長 PTT咬我\u001b[K\n",
      "                2   臺灣大學     臺大, 臺大, 臺大            [paullai/s75\u001b[K\n",
      "                3   政治大學     政大, 政大, 政大            [steve1121/s\u001b[K\n",
      "                4   青蘋果樹     校園, 班板, 社團            [dreamwave/f\u001b[K\u001b[12;17H5   活動中心     社團, 聚會, 團體\u001b[12;62H[dreamwave/s\n",
      "                6   視聽劇場     偶像, 音樂, 廣電            [skydreaming\u001b[K\u001b[14;17H7   戰略高手     遊戲, 數位, 程設    \u001b[14;62H[a3225737]\u001b[15;17H8   卡漫夢工廠   卡通, 漫畫, 動畫    \u001b[15;62H[sitos]\u001b[16;17H9   生活娛樂館   生活, 娛樂, 心情    \u001b[16;62H[GeminiMan]\u001b[17;16H10   國家研究院   政治, 文學, 學術    \u001b[17;62H[JosephChen/\u001b[18;16H11   國家體育場   汗水, 鬥志, 膽識    \u001b[18;62H[RJJ]\u001b[19;16H12       --> 即時熱門看板 <--\u001b[K\n",
      "\u001b[K\n",
      "\u001b[K\n",
      "\u001b[K\n",
      "\u001b[K\n",
      "\u001b[K\u001b[8;12H\n",
      "\u001b[H\u001b[K\n",
      "\u001b[K\n",
      "\u001b[K\n",
      "\u001b[K\n",
      "\u001b[K\n",
      "\u001b[K\n",
      "\u001b[K\n",
      "\u001b[K\n",
      "\u001b[K\n",
      "\u001b[K\n",
      "\u001b[K\n",
      "\u001b[K\n",
      "\u001b[K\n",
      "\u001b[K\n",
      "\u001b[K\n",
      "\u001b[K\n",
      "\u001b[K\n",
      "\u001b[K\n",
      "\u001b[K\n",
      "\n",
      "\n",
      "\n",
      "\n",
      "\u001b[1;34;44m ▄▄▄▄▄▄▄▄▄▄▄▄▄▄▄\u001b[0;1;37;44m 請按任意鍵繼續 \u001b[34m▄▄▄▄▄▄▄▄▄▄▄▄▄▄▄  \u001b[m\n",
      "\u001b[H\u001b[1;37;44m【板主:arsonlolita/xianyao/Bigna..】\u001b[33m【八卦】請協助置底協尋\u001b[0;1;37;44m    \u001b[32m系列《Gossiping》\n",
      "\u001b[m[←]離開 [→]閱讀 [Ctrl-P]發表文章 [d]刪除 [z]精華區 [i]看板資訊/設定 [h]說明\n",
      "\u001b[30;47m   編號    日 期 作  者       文  章  標  題                       人氣:20017  \u001b[4;7H\u001b[m1  \u001b[1;31m爆\u001b[m12/25 MiharuHubby  □ [爆卦] 第15任總統候選人  第二場政見發表會\u001b[5;7H2 +\u001b[1;33m17\u001b[m12/25 psl7634      R: [爆卦] 第15任總統候選人  第二場政見發表會\n",
      "\u001b[24;1H\u001b[34;46m 文章選讀 \u001b[30;47m \u001b[31m(y)\u001b[30m回應\u001b[31m(X)\u001b[30m推文\u001b[31m(^X)\u001b[30m轉錄 \u001b[31m(=[]<>)\u001b[30m相關主題\u001b[31m(/?a)\u001b[30m找標題/作者 \u001b[31m(b)\u001b[30m進板畫面  \u001b[m\u001b[6;2H\n"
     ]
    },
    {
     "data": {
      "application/vnd.jupyter.widget-view+json": {
       "model_id": "dbefcffa288642ee8e08729a879abe32",
       "version_major": 2,
       "version_minor": 0
      },
      "text/plain": [
       "HBox(children=(IntProgress(value=0), HTML(value='')))"
      ]
     },
     "metadata": {},
     "output_type": "display_data"
    },
    {
     "name": "stdout",
     "output_type": "stream",
     "text": [
      "\n"
     ]
    }
   ],
   "source": [
    "# https://www.ptt.cc/bbs/Gossiping/M.1577253063.A.4BC.html\n",
    "tag, userid, text, others = [], [], [], []\n",
    "\n",
    "host = 'ptt.cc'\n",
    "user = getpass.getpass('請輸入帳號')\n",
    "password = getpass.getpass('請輸入密碼')\n",
    "\n",
    "\n",
    "telnet = telnetlib.Telnet(host)\n",
    "time.sleep(1)\n",
    "content = telnet.read_very_eager().decode('big5','ignore')\n",
    "print(content)\n",
    "\n",
    "if u\"請輸入代號\" in content:\n",
    "    \n",
    "    telnet.write((user + \"\\r\\n\" ).encode('big5'))\n",
    "    time.sleep(1)\n",
    "\n",
    "    content = telnet.read_very_eager().decode('big5','ignore')\n",
    "\n",
    "    print(content)\n",
    "\n",
    "    if u\"請輸入您的密碼\" in content:\n",
    "\n",
    "        telnet.write((password + \"\\r\\n\" ).encode('big5'))\n",
    "        time.sleep(1)\n",
    "\n",
    "        content = telnet.read_very_eager().decode('big5','ignore')\n",
    "\n",
    "        print(content)\n",
    "\n",
    "        if u\"請按任意鍵繼續\" in content:\n",
    "\n",
    "            telnet.write((\"\\r\\n\" ).encode('big5'))\n",
    "            time.sleep(2)\n",
    "            content = telnet.read_very_eager().decode('big5','ignore')\n",
    "            print(content)\n",
    "            telnet.write((\"C\" + \"\\r\\n\" ).encode('big5'))\n",
    "            time.sleep(2)\n",
    "            content = telnet.read_very_eager().decode('big5','ignore')\n",
    "            print(content)\n",
    "            telnet.write((\"12\" + \"\\r\\n\" + \"\\r\\n\" + \"\\r\\n\" + \"\\r\\n\").encode('big5'))\n",
    "            time.sleep(2)\n",
    "            content = telnet.read_very_eager().decode('big5','ignore')\n",
    "            print(content)\n",
    "            telnet.write((\"(\" + \"/\" + \"第15任總統候選人  第二場政見發表會\" + \"\\r\\n\").encode('big5'))\n",
    "            time.sleep(2)\n",
    "            content = telnet.read_very_eager().decode('big5','ignore')\n",
    "            print(content)\n",
    "            telnet.write((\"1\" + \"\\r\\n\" + \"\\r\\n\").encode('big5'))\n",
    "            time.sleep(2)\n",
    "            content = telnet.read_very_eager().decode('big5','ignore')\n",
    "#             print(content)\n",
    "            telnet.write((\"\\r\\n\"*31).encode('big5'))\n",
    "            time.sleep(2)\n",
    "            content = telnet.read_very_eager().decode('big5','ignore')\n",
    "#             print(content)\n",
    "            result = ansi_escape.sub('', content)\n",
    "            for info in result.replace('\\n','').split('\\r')[:-1]:\n",
    "                try:\n",
    "                    tag.append(info[0])\n",
    "                    userid.append(info.split(':')[0][2:])\n",
    "                    text.append(info.split(':')[1].split('  ')[0])\n",
    "                    others.append(info.split('  ')[-1])\n",
    "                except:\n",
    "                    pass\n",
    "            for i in tqdm_notebook(range(0,100)):\n",
    "                try:\n",
    "                    telnet.write((\"\\r\\n\"*23).encode('big5'))\n",
    "                    time.sleep(2)\n",
    "                    content = telnet.read_very_eager().decode('big5','ignore')\n",
    "                    result = ansi_escape.sub('', content)\n",
    "                    for info in result.replace('\\n','').split('\\r')[:-1]:\n",
    "                        try:\n",
    "                            tag.append(info[0])\n",
    "                            userid.append(info.split(':')[0][2:])\n",
    "                            text.append(info.split(':')[1].split('  ')[0])\n",
    "                            others.append(info.split('  ')[-1])\n",
    "                        except:\n",
    "                            pass\n",
    "                except:\n",
    "                    pass"
   ]
  },
  {
   "cell_type": "code",
   "execution_count": 20,
   "metadata": {
    "collapsed": true
   },
   "outputs": [],
   "source": [
    "df2 = pd.DataFrame(list(zip(tag, userid, text, others)), columns=['tag', 'userid', 'text', 'others'])"
   ]
  },
  {
   "cell_type": "code",
   "execution_count": 21,
   "metadata": {
    "collapsed": false
   },
   "outputs": [
    {
     "data": {
      "text/plain": [
       "2242"
      ]
     },
     "execution_count": 21,
     "metadata": {},
     "output_type": "execute_result"
    }
   ],
   "source": [
    "len(df2)"
   ]
  },
  {
   "cell_type": "code",
   "execution_count": 28,
   "metadata": {
    "collapsed": false,
    "scrolled": false
   },
   "outputs": [],
   "source": [
    "df2 = df2[:2185]"
   ]
  },
  {
   "cell_type": "code",
   "execution_count": 29,
   "metadata": {
    "collapsed": true
   },
   "outputs": [],
   "source": [
    "df2.to_pickle('ptt_1225.pkl')"
   ]
  },
  {
   "cell_type": "markdown",
   "metadata": {},
   "source": [
    "### 第三場政見發表會"
   ]
  },
  {
   "cell_type": "code",
   "execution_count": 3,
   "metadata": {
    "collapsed": false,
    "scrolled": true
   },
   "outputs": [
    {
     "name": "stdout",
     "output_type": "stream",
     "text": [
      "請輸入帳號········\n",
      "請輸入密碼········\n",
      "HTTP/1.1 200 OK\n",
      "\n",
      "     ˙      \u001b[33;1mPTT\u001b[m                ·   ◣        ·  ˙      \u001b[1m◢\u001b[47m██████\u001b[40m◤\u001b[m\n",
      "             \u001b[1m140.112.172.11 \u001b[m·     ◢\u001b[47m█\u001b[1m◥\u001b[40m█◤\u001b[m            \u001b[1m◢\u001b[47m█████\u001b[m\n",
      "  ┌─┐     \u001b[33;1m批踢踢實業坊\u001b[m        ◢\u001b[30;47m▃\u001b[37m██\u001b[1m◥█\u001b[40m◤\u001b[m   ·   \u001b[1m◢\u001b[47m█████\u001b[40m◤  \u001b[m·\u001b[m\n",
      "  │\u001b[1m–\u001b[m└┐   \u001b[1mptt.cc       \u001b[m     ◢\u001b[47m█████\u001b[1m◥\u001b[40m█◤\u001b[m    \u001b[1m◢\u001b[47m█████\u001b[m\n",
      "  │\u001b[1m–\u001b[m  │                   ◢\u001b[47m███\u001b[40m◤\u001b[47m███\u001b[1m◥\u001b[40m◤\u001b[m  \u001b[1m◢\u001b[47m█████\u001b[40m◤  \u001b[m˙  ·\u001b[m\n",
      "─┘    │┌──┐  ·       ◥◤      \u001b[47m████\u001b[40m◣\u001b[1m◢\u001b[47m████\u001b[40m    \u001b[m·\u001b[m\n",
      "        └┤  \u001b[33;1m–\u001b[m│      ·           ◢\u001b[47m████\u001b[1m◢███\u001b[40m◤            \u001b[m·\u001b[m\n",
      "                │┌───┐         \u001b[47m█████\u001b[40m▇▇▆▆▅▅▄▄▃▂▁\u001b[m\n",
      "            ┌─┴┘\u001b[1m–\u001b[33m–\u001b[m  └ ◢\u001b[47m█████\u001b[40m▇▇▆▆▅▅▄▄▃▃▂▂▁\u001b[m\n",
      "            │\u001b[1m––\u001b[m           ◥\u001b[47m██\u001b[40m      █▇▇▆▆▅▅▄▄▃▂▁\u001b[m\n",
      "\u001b[H\u001b[2J\u001b[47m     \u001b[44m\u001b[47m          \u001b[44m◣               \u001b[1;30m/\u001b[37m／  \u001b[30m\\\u001b[37m\\\u001b[;34;44m\u001b[31m\u001b[41m \u001b[44m◣ ◥\u001b[33;41m      ▁▂▃▄▅▄▃▂▁       \u001b[m\n",
      "\u001b[47m                     \u001b[44m◣           \u001b[1;30m\\\u001b[37m＼  \u001b[30m/\u001b[37m/  \u001b[;31;44m◥\u001b[34;41m   \u001b[31;44m\u001b[33;41m   ◢\u001b[43m                  \u001b[41m◣  \u001b[1;30m{  \u001b[m\n",
      "\u001b[1;30;47m    ▃\u001b[;47mc              \u001b[44m\u001b[47m   \u001b[44m◣     \u001b[1;30m/\u001b[37m／︾ \u001b[;31;44m▂    \u001b[41m   \u001b[33m◢\u001b[1;31;43m υ                   \u001b[;33;41m◣   \u001b[m\n",
      "\u001b[1;30;47m      ◥◣          \u001b[;47m\u001b[1;30mc▃      \u001b[;44m◣  \u001b[1;30m\\\u001b[37m\\ \u001b[;31;44m◢\u001b[41m    \u001b[44m◣◢\u001b[41m    \u001b[1;43m                     ι   \u001b[41m   \u001b[m\n",
      "\u001b[1;30;47m         \u001b[;47m       \u001b[1;30m◢◤          \u001b[;44m\u001b[34mf\u001b[1;30m/\u001b[37m／  \u001b[;31;44m◥\u001b[41m         \u001b[30;43m      ◢◣        ◢◣      \u001b[41m  \u001b[m\n",
      "\u001b[30;47m   ◢\u001b[40m  \u001b[47m◣    \u001b[1m北  \u001b[;47m\u001b[1;30m              \u001b[;44m◣\u001b[30m＼\u001b[1;37m══ \u001b[;31;44m\u001b[41m  \u001b[1;30m\\  \u001b[43m       \u001b[;1m  \u001b[43m        \u001b[40m  \u001b[43m   \u001b[31mν  \u001b[41m \u001b[m\n",
      "\u001b[1;47m   \u001b[40m    \u001b[30;47m    ↑   \u001b[;30;47m◢\u001b[40m  \u001b[47m◣           \u001b[;44m▎ \u001b[1;30m\u001b[37m   \u001b[;34;44m\u001b[41m    \u001b[30;43m       ◥◤        ◥◤       \u001b[41m \u001b[m\n",
      "\u001b[30;47m    ◥\u001b[40m \u001b[47m◤         \u001b[1;37m\u001b[40m    \u001b[47m           \u001b[;44m▍ \u001b[30m//   \u001b[31m◥\u001b[41m    \u001b[43m                              \u001b[41m \u001b[m\n",
      "\u001b[30;47m                   ◥\u001b[40m \u001b[47m◤          \u001b[;44m\u001b[34m\u001b[1;37m==\u001b[;31;44m▁◢\u001b[41m     \u001b[43m    \u001b[1;41m////\u001b[43m              \u001b[41m////\u001b[43m    \u001b[41m \u001b[m\n",
      "\u001b[1;47m  ◢       \u001b[30m＼                  踢\u001b[;47m\u001b[44m  \u001b[1;30m!\u001b[37m!    \u001b[;31;44m◢\u001b[41m     \u001b[43m                            \u001b[41m  \u001b[m\n",
      "\u001b[1;47m  ▍         \u001b[30m\\ \u001b[;30;47m◢\u001b[37m  \u001b[1;30m╭╮批 踢     \u001b[;44m\u001b[34m\u001b[30m/\u001b[31m▄▆\u001b[1;30;41m   ∼    \u001b[43m       \u001b[;33m◣         ◢\u001b[43m      \u001b[41m   \u001b[m\n",
      "\u001b[47m \u001b[1m          \u001b[30m\u001b[37mb\u001b[;30;47m◥\u001b[37m\u001b[1;30m＼_-╯╮         \u001b[;44m\u001b[34m\u001b[1;37m` ﹏ \u001b[;34;41m▅◣    \u001b[33m◥\u001b[43m                      \u001b[41m◤   \u001b[m\n",
      "\u001b[1;30;47m             /     \\_--╮╯     坊   \u001b[44m / \u001b[37m\u001b[30mg\u001b[37m\\   \u001b[;34;41m◤ \u001b[1;30m'   \u001b[;33;41m◥\u001b[43m                  \u001b[41m◤   \u001b[31;44m▊\u001b[m\n",
      "\u001b[47m  \u001b[44m\u001b[47m       \u001b[1;30m／        ╰╯ 實 業    \u001b[;44m◤\u001b[1;30m| \u001b[37m[    \u001b[;34;41m◤   \u001b[31;44m\u001b[41m \u001b[1;30m/  \u001b[;31;43m▇▆▅▄▃▄▅▆▇\u001b[1;30;41m  ;  \u001b[;31;44m▎\u001b[m\n",
      "\u001b[34;44m\u001b[37m \u001b[34;47m▇▅▆\u001b[44m \u001b[47m▅▄▃▄▅▄▃▂▁▂▃▄\u001b[1;30;44m   ↘\u001b[37m\\__\u001b[30m/\u001b[;34;41m▆▇\u001b[44m  \u001b[31m\u001b[1;30;41m               /           \u001b[;31;44m▍\u001b[m\n",
      "\u001b[34;44m  ▃▃                             \u001b[1;30m／ \u001b[37m\u001b[30m_\u001b[37m︸ \u001b[32m      \u001b[41m \u001b[;31;44m◤\u001b[1;30;41m  \"  \u001b[;34;41m▄\u001b[31;44m◥\u001b[1;30;41m \\\\   \u001b[;31;44m\u001b[34;41m \u001b[31;44m  ◥\u001b[41m  \u001b[44m▌\u001b[m\n",
      "\u001b[1;30;44m                                  ︰\u001b[32m\u001b[37m]  __        \u001b[;34;44m\u001b[41m\u001b[44m \u001b[31m\u001b[41m\u001b[44m哈   \u001b[34m\u001b[31m\u001b[41m   \u001b[44m◤ ◥\u001b[41m \u001b[44m    ◥ \u001b[m\n",
      "\u001b[1;30;44mψauhu                             \\\u001b[;30;44m＼\u001b[1;37m\u001b[30m`\u001b[37m／            \u001b[;34;44m\u001b[31m         ◥             \u001b[m\n",
      "            歡迎來到 \u001b[1;33m批踢踢實業坊 \u001b[m目前有【\u001b[1;33m98241\u001b[m】位使用者在線上\n",
      "\n",
      "\n",
      "\n",
      " \u001b[1m※本站目前暫停開放新帳號註冊。\u001b[m\n",
      "\u001b[21;1H\u001b[K\u001b[m請輸入代號，或以 guest 參觀，或以 new 註冊: \u001b[7m              \b\b\b\b\b\b\b\b\b\b\b\b\b\b\n",
      "andy086\u001b[m\u001b[22;1H\u001b[K\u001b[m請輸入您的密碼: \u0007\n",
      "\u001b[22;1H\u001b[K\u001b[m正在檢查帳號與密碼...\u001b[22;1H\u001b[K\u001b[m密碼正確！ 開始登入系統...\n",
      "正在更新與同步線上使用者及好友名單，系統負荷量大時會需時較久....\n",
      "\u001b[H\u001b[2J\u001b[1;43H\u001b[30m▄   \u001b[32m\u001b[42me\u001b[0;1;37;42m︵\u001b[0;30;42m \u001b[32m▄\u001b[0;30m▄▄\u001b[32m▄\u001b[30;42m   \u001b[0;1;37;42m、／\u001b[0;30;42m   \u001b[0;32m▉\n",
      "\u001b[0;1;37m    ▇▇▅▃  ▉  ˍ▆▆▂  ◣    ▊      \u001b[m　\u001b[32m　\u001b[30m\u001b[32;42me\u001b[0;1;37;42mσ＼\u001b[0;32;42m▄\u001b[0;32me\u001b[42m▄\u001b[30m \u001b[32m▄▄\u001b[0;1;37;42m／\u001b[0;30;42m \u001b[0;1;37;42m”\u001b[0;32;42m\u001b[30me\u001b[0;30m ▄ \n",
      "\u001b[0;1;37m    █    █  ▉  █    █  █    ▉            \u001b[0;30;42m▄\u001b[32m▄\u001b[0;1;37;42m＼\u001b[0;32;42m \u001b[30m \u001b[32m \u001b[30m \u001b[32m▄\u001b[0;1;37;42m／ ’\u001b[0;30;42m▄\u001b[0;30m▄\u001b[4;5H\u001b[m█▆▄◤  █  █\u001b[4;29H█▅▅▉     \u001b[32m         \u001b[30m\u001b[42me▄\u001b[32m▄\u001b[30m      ▄\u001b[0;30m▄\n",
      "\u001b[m　　█　　◣　█　█　　▂　█　　▉\u001b[1;37m      \u001b[5;56H\u001b[0;30;42m▏   \u001b[0;32m▍\n",
      "\u001b[m　　█　　█　◤　◥██◤　◥　　▉\u001b[6;46H\u001b[32m   ◢\u001b[42m              \u001b[0;32m◣\n",
      "\u001b[m　  　　　　　　　　　　  \u001b[1;35m職場體驗網   \u001b[36m    \u001b[0;30m \u001b[32m◢\u001b[42m             \u001b[0;42m         \u001b[0;32m◣\u001b[8;15H\u001b[1mhttp://rich.yda.gov.tw   \u001b[0;32m  ◢\u001b[42m        \u001b[47m◤       ◥\u001b[30;42m         \u001b[0;32m◣\u001b[9;36H    ◢\u001b[42m      \u001b[47m◤               ◥\u001b[30;42m       \u001b[0;32m◣\u001b[10;35H     \u001b[42m  \u001b[31m  \u001b[32;47m◤ \u001b[30m▅▄\u001b[32m   \u001b[0;47m       \u001b[32m \u001b[30m▄▅\u001b[32m   ◥\u001b[30;42m  \u001b[32m  \u001b[1;36m \u001b[11;5H\u001b[0;1;37m找經驗?全國\u001b[33m上千工讀機會\u001b[0;1;37m由你選!   \u001b[0;30;42m▊\u001b[32m  \u001b[47m◤ \u001b[30m         \u001b[0;47m \u001b[30m    \u001b[0;1;37;47m \u001b[0;30;47m       \u001b[0;47m  \u001b[32m  ◥\u001b[30;42m  \u001b[31m \u001b[0;32m▏\u001b[12;5H\u001b[m找見習?\u001b[1;35m公部門見習職缺\u001b[m任你挑!     \u001b[30;42m▍  \u001b[47m    ◢█◣   \u001b[0;47m \u001b[30m     ◢█◣      \u001b[42m   \u001b[0;32m▎\n",
      "\u001b[m　  \u001b[1;37m找實力?豐富內容助你成為\u001b[33m職場達人\u001b[0;1;37m! \u001b[0;30;42m▎\u001b[32m█\u001b[30;47m    \u001b[0;1;37m●\u001b[0;30m█\u001b[47m█         \u001b[0;1;37m●\u001b[0;30m██\u001b[47m      \u001b[42m   \u001b[0;32m▎\u001b[14;38H\u001b[30;42m▎\u001b[0;42m \u001b[30m \u001b[47m    ◥█◤\u001b[0;47m  \u001b[30m  \u001b[0;47m     \u001b[30m◥█◤      \u001b[42m   \u001b[0;32m▍\u001b[15;38H\u001b[30;42m▏\u001b[32m█\u001b[30;47m      \u001b[32m   \u001b[30m \u001b[32m  \u001b[30m╰﹣\u001b[0;47m   \u001b[32m    \u001b[0;47m \u001b[33m       \u001b[42m   \u001b[0;32m▍\u001b[16;5H\u001b[1;36m教育部青年署 RICH職場體驗網      \u001b[0;30;42m▏\u001b[32m█\u001b[30;47m      \u001b[32m  \u001b[0;1;37;41m              \u001b[0;32;47m  \u001b[30m \u001b[33m      \u001b[42m   \u001b[0;32m▍\n",
      "\u001b[30m    \u001b[0;1;37m幫你在校找工讀              \u001b[0;30m     \u001b[42m▏\u001b[32m█\u001b[30;47m      \u001b[32m  \u001b[31m◥\u001b[1;36;41m          \u001b[0;31;47m◤\u001b[32m \u001b[0;47m \u001b[33m       \u001b[42m   \u001b[0;32m▍\u001b[18;27H\u001b[30m            \u001b[32;42m█ \u001b[30;47m    \u001b[32m   \u001b[0;1;37;47m   \u001b[5;31m \u001b[0;41m▆▆▆▆\u001b[1;5;31;47m           \u001b[0;30;47m \u001b[32;42m█\u001b[0;32m▋\u001b[m\n",
      "\n",
      "\n",
      "\n",
      "\n",
      "\n",
      "\u001b[21;7H歡迎您再度拜訪，上次您是從 \u001b[1;33m111.250.146.60 \u001b[m連往本站。\n",
      "\n",
      "\n",
      "\u001b[1;34;44m ▄▄▄▄▄▄▄▄▄▄▄▄▄▄▄\u001b[0;1;37;44m 請按任意鍵繼續 \u001b[34m▄▄▄▄▄▄▄▄▄▄▄▄▄▄▄  \u001b[m\n",
      "\u001b[H\u001b[1;37;44m【主功能表】                     \u001b[33m批踢踢實業坊\u001b[0;1;37;44m                                  \n",
      "\u001b[47m███████████████████████████████████████\n",
      "\u001b[0;33;47m▅▆▆\u001b[1;36;43m◥\u001b[47m███████████████████████████████████\n",
      "\u001b[0;30;43m     -─`     \u001b[1;36m￣￣￣      ￣￣￣    ￣￣                  ￣￣￣\u001b[30m￣￣\u001b[36m￣        \n",
      "\u001b[0;43m            \u001b[31m▂▃\u001b[1;30m     ︱       ｜        ＼     \u001b[0;30;43m｜     \\                   ∣  \n",
      " \\_   ／ \u001b[33;41m◤\u001b[0;41m▂ \u001b[31;43m▊\u001b[34m。\u001b[30m   /  ／  ﹍ ＼  \u001b[1mL_         \u001b[0;30;43m|        |  ⊥       \u001b[1m｜   \u001b[0;30;43m.∠   \n",
      "   ╳    \u001b[31;47m▊\u001b[30m˙\u001b[0;41m▎\u001b[33m◤\u001b[31;43m▎\u001b[30m`┐ │,   ︳▁   -.︿   ／  ` _︳ ∣ .  _x_    \\   ｜ ╲ \n",
      " L  \u001b[36m_▄\u001b[41m▊\u001b[30m\\ \u001b[31;47m▆\u001b[1;36;41m'    \u001b[0;30;43m N ＼_7_︷-+┤ ↖╳   〉┬'┌‵√ 7╴.-！′   `┬+┼=.／= ╴\n",
      "┤ \u001b[33;46m▄ \u001b[31m▄\u001b[30;41m, ╲,_  \u001b[33m◢\u001b[30;43m│\\_╱▏\\_／_﹀  _;}—L  ↘_〕-_╳  |   ＼__F ↙  ﹍] ▏_／ \n",
      " ╲\u001b[32mr\u001b[46m▎\u001b[31m◥\u001b[30;41m〃└\u001b[34m_\u001b[36m▄\u001b[31;43m〞\u001b[30m↗╳ ▕_ ┘╳ ╲_↙▎↙↑_▕  ,┼▕  ＼  ﹀`  ▎`￣  ↖￣} ╲\n",
      " r┘ \u001b[33;46m▄ \u001b[31m◥\u001b[33m▃▆\u001b[30;43m┬憓| ▎  ╲ ` ▏├  ￣\\  ’︺▏\u001b[35m可不可以偶爾下雨不必永遠晴天...\n",
      "\u001b[m\u001b[K\n",
      "───────── 上方為使用者心情點播留言區，不代表本站立場 ────────\u001b[14;23H(\u001b[1;36mA\u001b[m)nnounce     【 精華公佈欄 】\u001b[K\u001b[15;23H(\u001b[1;36mF\u001b[m)avorite     【 我 的 最愛 】\u001b[K\u001b[16;5H                ●(\u001b[1;36mC\u001b[m)lass        【 分組討論區 】\u001b[K\n",
      "                      (\u001b[1;36mM\u001b[m)ail         【 私人信件區 】\u001b[K\u001b[18;23H(\u001b[1;36mT\u001b[m)alk         【 休閒聊天區 】\u001b[K\u001b[19;23H(\u001b[1;36mU\u001b[m)ser\u001b[19;38H【 個人設定區 】\u001b[20;23H(\u001b[1;36mX\u001b[m)yz\u001b[20;38H【 系統資訊區 】\u001b[21;7H                (\u001b[1;36mP\u001b[m)lay         【 娛樂與休閒 】\u001b[K\u001b[22;23H(\u001b[1;36mN\u001b[m)amelist     【 編特別名單 】\u001b[23;23H(\u001b[1;36mG\u001b[m)oodbye\u001b[23;41H離開，再見…\n",
      "\u001b[34;46m[12/29 星期天 20:06]\u001b[1;33;45m [ 水瓶時 ]   \u001b[30;47m 線上\u001b[31m98325\u001b[30m人, 我是\u001b[31mandy086\u001b[30m       [呼叫器]\u001b[31m打開 \u001b[m\u001b[16;22H\n",
      "\u001b[1;3H\u001b[1;37;44m分類看板\n",
      "\u001b[m                                                              ◣  ╭—\u001b[33m●\u001b[m\u001b[K\n",
      "\u001b[33m                                                    寣X  \u001b[m ◢█\u001b[47m☉\u001b[m██◣\u001b[K\n",
      "  \u001b[44m   ︿︿︿︿︿︿︿︿                               \u001b[33m\u001b[0;44m ◣◢███▼▼▼ \u001b[m\u001b[K\n",
      "  \u001b[44m                                                  \u001b[33m  \u001b[0;44m ◤◥███▲▲▲ \u001b[m\u001b[K\n",
      "                                  ︿︿︿︿︿︿︿︿    \u001b[33m│\u001b[m   ◥████◤ \u001b[K\n",
      "                                                      \u001b[33m鞳X—\u001b[m  ◤      —＋\u001b[K\n",
      "          ●    1   市民廣場     報告站長 PTT咬我\u001b[K\n",
      "                2   臺灣大學     臺大, 臺大, 臺大            [paullai/s75\u001b[K\n",
      "                3   政治大學     政大, 政大, 政大            [steve1121/s\u001b[K\n",
      "                4   青蘋果樹     校園, 班板, 社團            [dreamwave/f\u001b[K\u001b[12;17H5   活動中心     社團, 聚會, 團體\u001b[12;62H[dreamwave/s\n",
      "                6   視聽劇場     偶像, 音樂, 廣電            [skydreaming\u001b[K\u001b[14;17H7   戰略高手     遊戲, 數位, 程設    \u001b[14;62H[a3225737]\u001b[15;17H8   卡漫夢工廠   卡通, 漫畫, 動畫    \u001b[15;62H[sitos]\u001b[16;17H9   生活娛樂館   生活, 娛樂, 心情    \u001b[16;62H[GeminiMan]\u001b[17;16H10   國家研究院   政治, 文學, 學術    \u001b[17;62H[JosephChen/\u001b[18;16H11   國家體育場   汗水, 鬥志, 膽識    \u001b[18;62H[RJJ]\u001b[19;16H12       --> 即時熱門看板 <--\u001b[K\n",
      "\u001b[K\n",
      "\u001b[K\n",
      "\u001b[K\n",
      "\u001b[K\n",
      "\u001b[K\u001b[8;12H\n",
      "\u001b[H\u001b[K\n",
      "\u001b[K\n",
      "\u001b[K\n",
      "\u001b[K\n",
      "\u001b[K\n",
      "\u001b[K\n",
      "\u001b[K\n",
      "\u001b[K\n",
      "\u001b[K\n",
      "\u001b[K\n",
      "\u001b[K\n",
      "\u001b[K\n",
      "\u001b[K\n",
      "\u001b[K\n",
      "\u001b[K\n",
      "\u001b[K\n",
      "\u001b[K\n",
      "\u001b[K\n",
      "\u001b[K\n",
      "\n",
      "\n",
      "\n",
      "\n",
      "\u001b[1;34;44m ▄▄▄▄▄▄▄▄▄▄▄▄▄▄▄\u001b[0;1;37;44m 請按任意鍵繼續 \u001b[34m▄▄▄▄▄▄▄▄▄▄▄▄▄▄▄  \u001b[m\n",
      "\u001b[H\u001b[1;37;44m【板主:arsonlolita/xianyao/Bigna..】\u001b[33m【八卦】請協助置底協尋\u001b[0;1;37;44m    \u001b[32m系列《Gossiping》\n",
      "\u001b[m[←]離開 [→]閱讀 [Ctrl-P]發表文章 [d]刪除 [z]精華區 [i]看板資訊/設定 [h]說明\n",
      "\u001b[30;47m   編號    日 期 作  者       文  章  標  題                       人氣:19470  \u001b[4;7H\u001b[m1  \u001b[1;31m爆\u001b[m12/27 MiharuHubby  □ [爆卦] 第15任總統候選人  第三場政見發表會\u001b[5;7H2 +\u001b[1;31m爆\u001b[m12/28 elsewhite    R: [爆卦] 第15任總統候選人  第三場政見發表會\u001b[6;7H3 +\u001b[1;31m爆\u001b[m12/28 orfan\u001b[6;31HR: [爆卦] 第15任總統候選人  第三場政見發表會\u001b[7;7H4 +\u001b[1;30m  \u001b[m12/28 chi12345678  R: [爆卦] 第15任總統候選人  第三場政見發表會\n",
      "\u001b[24;1H\u001b[34;46m 文章選讀 \u001b[30;47m \u001b[31m(y)\u001b[30m回應\u001b[31m(X)\u001b[30m推文\u001b[31m(^X)\u001b[30m轉錄 \u001b[31m(=[]<>)\u001b[30m相關主題\u001b[31m(/?a)\u001b[30m找標題/作者 \u001b[31m(b)\u001b[30m進板畫面  \u001b[m\u001b[8;2H\n"
     ]
    },
    {
     "data": {
      "application/vnd.jupyter.widget-view+json": {
       "model_id": "913ee1481c4142039bbacfa964da9997",
       "version_major": 2,
       "version_minor": 0
      },
      "text/plain": [
       "HBox(children=(IntProgress(value=0, max=250), HTML(value='')))"
      ]
     },
     "metadata": {},
     "output_type": "display_data"
    },
    {
     "name": "stdout",
     "output_type": "stream",
     "text": [
      "\n"
     ]
    }
   ],
   "source": [
    "# https://www.ptt.cc/bbs/Gossiping/M.1577443748.A.C7B.html\n",
    "tag, userid, text, others = [], [], [], []\n",
    "\n",
    "host = 'ptt.cc'\n",
    "user = getpass.getpass('請輸入帳號')\n",
    "password = getpass.getpass('請輸入密碼')\n",
    "\n",
    "\n",
    "telnet = telnetlib.Telnet(host)\n",
    "time.sleep(1)\n",
    "content = telnet.read_very_eager().decode('big5','ignore')\n",
    "print(content)\n",
    "\n",
    "if u\"請輸入代號\" in content:\n",
    "    \n",
    "    telnet.write((user + \"\\r\\n\" ).encode('big5'))\n",
    "    time.sleep(1)\n",
    "\n",
    "    content = telnet.read_very_eager().decode('big5','ignore')\n",
    "\n",
    "    print(content)\n",
    "\n",
    "    if u\"請輸入您的密碼\" in content:\n",
    "\n",
    "        telnet.write((password + \"\\r\\n\" ).encode('big5'))\n",
    "        time.sleep(1)\n",
    "\n",
    "        content = telnet.read_very_eager().decode('big5','ignore')\n",
    "\n",
    "        print(content)\n",
    "\n",
    "        if u\"請按任意鍵繼續\" in content:\n",
    "\n",
    "            telnet.write((\"\\r\\n\" ).encode('big5'))\n",
    "            time.sleep(2)\n",
    "            content = telnet.read_very_eager().decode('big5','ignore')\n",
    "            print(content)\n",
    "            telnet.write((\"C\" + \"\\r\\n\" ).encode('big5'))\n",
    "            time.sleep(2)\n",
    "            content = telnet.read_very_eager().decode('big5','ignore')\n",
    "            print(content)\n",
    "            telnet.write((\"12\" + \"\\r\\n\" + \"\\r\\n\" + \"\\r\\n\" + \"\\r\\n\").encode('big5'))\n",
    "            time.sleep(2)\n",
    "            content = telnet.read_very_eager().decode('big5','ignore')\n",
    "            print(content)\n",
    "            telnet.write((\"(\" + \"/\" + \"第15任總統候選人  第三場政見發表會\" + \"\\r\\n\").encode('big5'))\n",
    "            time.sleep(2)\n",
    "            content = telnet.read_very_eager().decode('big5','ignore')\n",
    "            print(content)\n",
    "            telnet.write((\"1\" + \"\\r\\n\" + \"\\r\\n\").encode('big5'))\n",
    "            time.sleep(2)\n",
    "            content = telnet.read_very_eager().decode('big5','ignore')\n",
    "#             print(content)\n",
    "            telnet.write((\"\\r\\n\"*33).encode('big5'))\n",
    "            time.sleep(2)\n",
    "            content = telnet.read_very_eager().decode('big5','ignore')\n",
    "#             print(content)\n",
    "            result = ansi_escape.sub('', content)\n",
    "            for info in result.replace('\\n','').split('\\r')[:-1]:\n",
    "                try:\n",
    "                    tag.append(info[0])\n",
    "                    userid.append(info.split(':')[0][2:])\n",
    "                    text.append(info.split(':')[1].split('  ')[0])\n",
    "                    others.append(info.split('  ')[-1])\n",
    "                except:\n",
    "                    pass\n",
    "            for i in tqdm_notebook(range(0,250)):\n",
    "                try:\n",
    "                    telnet.write((\"\\r\\n\"*23).encode('big5'))\n",
    "                    time.sleep(2)\n",
    "                    content = telnet.read_very_eager().decode('big5','ignore')\n",
    "                    result = ansi_escape.sub('', content)\n",
    "                    for info in result.replace('\\n','').split('\\r')[:-1]:\n",
    "                        try:\n",
    "                            tag.append(info[0])\n",
    "                            userid.append(info.split(':')[0][2:])\n",
    "                            text.append(info.split(':')[1].split('  ')[0])\n",
    "                            others.append(info.split('  ')[-1])\n",
    "                        except:\n",
    "                            pass\n",
    "                except:\n",
    "                    pass"
   ]
  },
  {
   "cell_type": "code",
   "execution_count": 4,
   "metadata": {
    "collapsed": true
   },
   "outputs": [],
   "source": [
    "df3 = pd.DataFrame(list(zip(tag, userid, text, others)), columns=['tag', 'userid', 'text', 'others'])"
   ]
  },
  {
   "cell_type": "code",
   "execution_count": 5,
   "metadata": {
    "collapsed": false
   },
   "outputs": [
    {
     "data": {
      "text/plain": [
       "5751"
      ]
     },
     "execution_count": 5,
     "metadata": {},
     "output_type": "execute_result"
    }
   ],
   "source": [
    "len(df3)"
   ]
  },
  {
   "cell_type": "code",
   "execution_count": 8,
   "metadata": {
    "collapsed": false
   },
   "outputs": [],
   "source": [
    "df3 = df3[:5750]"
   ]
  },
  {
   "cell_type": "code",
   "execution_count": 9,
   "metadata": {
    "collapsed": true
   },
   "outputs": [],
   "source": [
    "df3.to_pickle('ptt_1227.pkl')"
   ]
  },
  {
   "cell_type": "markdown",
   "metadata": {},
   "source": [
    "## Test"
   ]
  },
  {
   "cell_type": "code",
   "execution_count": 11,
   "metadata": {
    "collapsed": false,
    "scrolled": false
   },
   "outputs": [
    {
     "data": {
      "text/plain": [
       "['噓 o760823: 韓看手機                                 36.238.10.123 12/29 13:03',\n",
       " '推 usoppp: 就被新潮流挾持了阿 = =                    114.43.213.86 12/29 13:03',\n",
       " '→ a900632000: 看稿是有比造謠嚴重嗎 智障記者       180.204.217.255 12/29 13:03',\n",
       " '→ yfme: 蔡英文就是爛！以前的總統才不會一直看稿！    114.40.235.89 12/29 13:03',\n",
       " '噓 xianfen: 廢物韓導                                 49.214.208.88 12/29 13:04',\n",
       " '噓 rowi: 韓一邊看稿一邊罵人讀稿機還同時唬爛  你他    27.247.39.123 12/29 13:04',\n",
       " '→ rowi: 媽怎有臉說                                  27.247.39.123 12/29 13:04',\n",
       " '推 thesh: 蔡因d是傀儡啊                            101.14.160.157 12/29 13:06',\n",
       " '噓 jamison04: 藍蟑螂真的垃圾                       220.141.182.132 12/29 13:07',\n",
       " '噓 Biglottery: 呵呵                                  115.82.130.45 12/29 13:08',\n",
       " '噓 EggAcme: 罵人用的數據也要精準，藍的亂唬爛數字，  36.235.149.190 12/29 13:09',\n",
       " '→ EggAcme: 選民完全無感，綠的用錯就被靠北靠母。    36.235.149.190 12/29 13:09',\n",
       " '噓 hill1: 這什麼爛新聞                              123.192.48.244 12/29 13:11',\n",
       " '噓 kouta: 無恥的新聞                                220.133.14.178 12/29 13:19',\n",
       " '→ buyala: 為什麼跑新聞要抄PTT                      49.215.201.223 12/29 13:22',\n",
       " '→ ThreekRoger: 看稿罵人也太厲害，完美預測？           42.75.45.79 12/29 13:31',\n",
       " '推 jackchangaa: 罵人看稿，精準論事，超購香菸，劇    111.71.108.173 12/29 13:33',\n",
       " '→ jackchangaa: 本演出                              111.71.108.173 12/29 13:33',\n",
       " '噓 et11117: 你一個人代表高雄青年？                    39.12.226.10 12/29 13:33',\n",
       " '推 lin821: 原來是草包團的人哦                      220.142.125.201 12/29 13:35',\n",
       " '推 beckiloveu: 高雄青年多年輕？                     223.137.175.43 12/29 13:48',\n",
       " '噓 jiajie: 韓的不看稿罵人抹黑人確實強               118.150.189.50 12/29 14:39',\n",
       " '→ keane9112: 看稿到底怎麼了？                       42.75.220.187 12/29 15:03',\n",
       " '  瀏覽 第 6/6 頁 (100%) 95~117 行']"
      ]
     },
     "execution_count": 11,
     "metadata": {},
     "output_type": "execute_result"
    }
   ],
   "source": [
    "result.split('\\r\\n')"
   ]
  },
  {
   "cell_type": "code",
   "execution_count": 6,
   "metadata": {
    "collapsed": false
   },
   "outputs": [
    {
     "name": "stdout",
     "output_type": "stream",
     "text": [
      "噓\n",
      "o760823\n",
      " 韓看手機\n",
      " 36.238.10.123 12/29 13:03\n",
      "推\n",
      "usoppp\n",
      " 就被新潮流挾持了阿 = =\n",
      "114.43.213.86 12/29 13:03\n",
      "→\n",
      "a900632000\n",
      " 看稿是有比造謠嚴重嗎 智障記者\n",
      " 180.204.217.255 12/29 13:03\n",
      "→\n",
      "yfme\n",
      " 蔡英文就是爛！以前的總統才不會一直看稿！\n",
      "114.40.235.89 12/29 13:03\n",
      "噓\n",
      "xianfen\n",
      " 廢物韓導\n",
      " 49.214.208.88 12/29 13:04\n",
      "噓\n",
      "rowi\n",
      " 韓一邊看稿一邊罵人讀稿機還同時唬爛\n",
      "27.247.39.123 12/29 13:04\n",
      "→\n",
      "rowi\n",
      " 媽怎有臉說\n",
      "27.247.39.123 12/29 13:04\n",
      "推\n",
      "thesh\n",
      " 蔡因d是傀儡啊\n",
      "101.14.160.157 12/29 13:06\n",
      "噓\n",
      "jamison04\n",
      " 藍蟑螂真的垃圾\n",
      " 220.141.182.132 12/29 13:07\n",
      "噓\n",
      "Biglottery\n",
      " 呵呵\n",
      "115.82.130.45 12/29 13:08\n",
      "噓\n",
      "EggAcme\n",
      " 罵人用的數據也要精準，藍的亂唬爛數字，\n",
      "36.235.149.190 12/29 13:09\n",
      "→\n",
      "EggAcme\n",
      " 選民完全無感，綠的用錯就被靠北靠母。\n",
      "36.235.149.190 12/29 13:09\n",
      "噓\n",
      "hill1\n",
      " 這什麼爛新聞\n",
      "123.192.48.244 12/29 13:11\n",
      "噓\n",
      "kouta\n",
      " 無恥的新聞\n",
      "220.133.14.178 12/29 13:19\n",
      "→\n",
      "buyala\n",
      " 為什麼跑新聞要抄PTT\n",
      "49.215.201.223 12/29 13:22\n",
      "→\n",
      "ThreekRoger\n",
      " 看稿罵人也太厲害，完美預測？\n",
      " 42.75.45.79 12/29 13:31\n",
      "推\n",
      "jackchangaa\n",
      " 罵人看稿，精準論事，超購香菸，劇\n",
      "111.71.108.173 12/29 13:33\n",
      "→\n",
      "jackchangaa\n",
      " 本演出\n",
      "111.71.108.173 12/29 13:33\n",
      "噓\n",
      "et11117\n",
      " 你一個人代表高雄青年？\n",
      "39.12.226.10 12/29 13:33\n",
      "推\n",
      "lin821\n",
      " 原來是草包團的人哦\n",
      "220.142.125.201 12/29 13:35\n",
      "推\n",
      "beckiloveu\n",
      " 高雄青年多年輕？\n",
      " 223.137.175.43 12/29 13:48\n",
      "噓\n",
      "jiajie\n",
      " 韓的不看稿罵人抹黑人確實強\n",
      " 118.150.189.50 12/29 14:39\n",
      "→\n",
      "keane9112\n",
      " 看稿到底怎麼了？\n",
      " 42.75.220.187 12/29 15:03\n"
     ]
    }
   ],
   "source": [
    "for i in a[:-1]:\n",
    "    print(i[0])\n",
    "    print(i.split(':')[0][2:])\n",
    "    print(i.split(':')[1].split('  ')[0])\n",
    "    print(i.split('  ')[-1])"
   ]
  },
  {
   "cell_type": "code",
   "execution_count": null,
   "metadata": {
    "collapsed": true
   },
   "outputs": [],
   "source": []
  }
 ],
 "metadata": {
  "kernelspec": {
   "display_name": "Python 3",
   "language": "python",
   "name": "python3"
  },
  "language_info": {
   "codemirror_mode": {
    "name": "ipython",
    "version": 3
   },
   "file_extension": ".py",
   "mimetype": "text/x-python",
   "name": "python",
   "nbconvert_exporter": "python",
   "pygments_lexer": "ipython3",
   "version": "3.6.8"
  }
 },
 "nbformat": 4,
 "nbformat_minor": 2
}
