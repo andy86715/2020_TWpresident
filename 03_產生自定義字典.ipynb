{
 "cells": [
  {
   "cell_type": "code",
   "execution_count": 1,
   "metadata": {
    "collapsed": true
   },
   "outputs": [],
   "source": [
    "import numpy as np\n",
    "import pandas as pd\n",
    "import matplotlib.pyplot as plt\n",
    "import warnings\n",
    "warnings.filterwarnings(\"ignore\")\n",
    "from tqdm import tqdm_notebook"
   ]
  },
  {
   "cell_type": "code",
   "execution_count": 2,
   "metadata": {
    "collapsed": true
   },
   "outputs": [],
   "source": [
    "df_1218 = pd.read_pickle('ptt_1218.pkl')\n",
    "df_1225 = pd.read_pickle('ptt_1225.pkl')\n",
    "df_1227 = pd.read_pickle('ptt_1227.pkl')"
   ]
  },
  {
   "cell_type": "markdown",
   "metadata": {},
   "source": [
    "## 結巴斷字斷詞"
   ]
  },
  {
   "cell_type": "code",
   "execution_count": 26,
   "metadata": {
    "collapsed": false,
    "scrolled": false
   },
   "outputs": [],
   "source": [
    "import nltk\n",
    "import jieba\n",
    "from nltk.util import ngrams\n",
    "from collections import Counter\n",
    "from nltk.corpus import stopwords\n",
    "jieba.set_dictionary('/Users/andy/Documents/python/校外課程&自我學習/jieba//dict.txt.big.txt')\n",
    "stop=stopwords.words('/Users/andy/Documents/python/校外課程&自我學習/jieba/stop_words2.txt')"
   ]
  },
  {
   "cell_type": "code",
   "execution_count": 27,
   "metadata": {
    "collapsed": false
   },
   "outputs": [
    {
     "data": {
      "application/vnd.jupyter.widget-view+json": {
       "model_id": "c1974417cc334f75b910e19f3d39f6ac",
       "version_major": 2,
       "version_minor": 0
      },
      "text/plain": [
       "HBox(children=(IntProgress(value=0, max=8832), HTML(value='')))"
      ]
     },
     "metadata": {},
     "output_type": "display_data"
    },
    {
     "name": "stderr",
     "output_type": "stream",
     "text": [
      "Building prefix dict from /Users/andy/Documents/python/校外課程&自我學習/jieba/dict.txt.big.txt ...\n",
      "Loading model from cache /var/folders/rc/x9l6wkn90dlgmkfy4d830zw80000gn/T/jieba.u9fe080374f2c8d462c27e757eba41adf.cache\n",
      "Loading model cost 1.494 seconds.\n",
      "Prefix dict has been built succesfully.\n"
     ]
    },
    {
     "name": "stdout",
     "output_type": "stream",
     "text": [
      "\n"
     ]
    }
   ],
   "source": [
    "text = []\n",
    "for index in tqdm_notebook(range(len(df_1218))):\n",
    "    words = jieba.cut(str(df_1218['text'][index]))\n",
    "    for word in words:\n",
    "        if word != ' ':\n",
    "            text.append(word)"
   ]
  },
  {
   "cell_type": "markdown",
   "metadata": {},
   "source": [
    "### 1. 找尋倆倆詞頻"
   ]
  },
  {
   "cell_type": "code",
   "execution_count": 30,
   "metadata": {
    "collapsed": true
   },
   "outputs": [],
   "source": [
    "bigram = ngrams(text,2)\n",
    "trgram = ngrams(text,3)\n",
    "bi = Counter(bigram).most_common()\n",
    "tr = Counter(trgram).most_common()"
   ]
  },
  {
   "cell_type": "code",
   "execution_count": 34,
   "metadata": {
    "collapsed": true
   },
   "outputs": [],
   "source": [
    "new_bi = []\n",
    "new_tr = []\n",
    "stop = ['，','、','：','(',')','。',':','【','】','/','-','_',',','“','___','「','」','+','__','？','.','?','!','~','>','=','...','…']\n",
    "for i in range(len(bi)):\n",
    "    number = 0\n",
    "    for s in stop:\n",
    "        if s in bi[i][0]:\n",
    "            number += 1\n",
    "    if number == 0:\n",
    "        new_bi.append(bi[i])\n",
    "\n",
    "for i in range(len(tr)):\n",
    "    number = 0\n",
    "    for s in stop:\n",
    "        if s in tr[i][0]:\n",
    "            number += 1\n",
    "    if number == 0:\n",
    "        new_tr.append(tr[i])"
   ]
  },
  {
   "cell_type": "code",
   "execution_count": 42,
   "metadata": {
    "collapsed": false
   },
   "outputs": [],
   "source": [
    "file = open(\"bigram_1218.txt\",\"w\")\n",
    "for i in new_bi:\n",
    "    file.write(str(i)+\"\\n\")\n",
    "file.close()"
   ]
  },
  {
   "cell_type": "code",
   "execution_count": 43,
   "metadata": {
    "collapsed": true
   },
   "outputs": [],
   "source": [
    "file = open(\"trigram_1218.txt\",\"w\")\n",
    "for i in new_tr:\n",
    "    file.write(str(i)+\"\\n\")\n",
    "file.close()"
   ]
  },
  {
   "cell_type": "markdown",
   "metadata": {},
   "source": [
    "### 2. 加入1218自定義字典"
   ]
  },
  {
   "cell_type": "code",
   "execution_count": 49,
   "metadata": {
    "collapsed": true
   },
   "outputs": [],
   "source": [
    "jieba.load_userdict('自定義字典.txt')"
   ]
  },
  {
   "cell_type": "code",
   "execution_count": 54,
   "metadata": {
    "collapsed": false
   },
   "outputs": [
    {
     "data": {
      "application/vnd.jupyter.widget-view+json": {
       "model_id": "37418c1564a243a9ac32d1e50b56da4a",
       "version_major": 2,
       "version_minor": 0
      },
      "text/plain": [
       "HBox(children=(IntProgress(value=0, max=2185), HTML(value='')))"
      ]
     },
     "metadata": {},
     "output_type": "display_data"
    },
    {
     "name": "stdout",
     "output_type": "stream",
     "text": [
      "\n"
     ]
    }
   ],
   "source": [
    "# run 1225\n",
    "text = []\n",
    "for index in tqdm_notebook(range(len(df_1225))):\n",
    "    words = jieba.cut(str(df_1225['text'][index]))\n",
    "    for word in words:\n",
    "        if word != ' ':\n",
    "            text.append(word)"
   ]
  },
  {
   "cell_type": "code",
   "execution_count": 55,
   "metadata": {
    "collapsed": true
   },
   "outputs": [],
   "source": [
    "bigram = ngrams(text,2)\n",
    "trgram = ngrams(text,3)\n",
    "bi = Counter(bigram).most_common()\n",
    "tr = Counter(trgram).most_common()"
   ]
  },
  {
   "cell_type": "code",
   "execution_count": 56,
   "metadata": {
    "collapsed": true
   },
   "outputs": [],
   "source": [
    "new_bi = []\n",
    "new_tr = []\n",
    "stop = ['，','、','：','(',')','。',':','【','】','/','-','_',',','“','___','「','」','+','__','？','.','?','!','~','>','=','...','…']\n",
    "for i in range(len(bi)):\n",
    "    number = 0\n",
    "    for s in stop:\n",
    "        if s in bi[i][0]:\n",
    "            number += 1\n",
    "    if number == 0:\n",
    "        new_bi.append(bi[i])\n",
    "\n",
    "for i in range(len(tr)):\n",
    "    number = 0\n",
    "    for s in stop:\n",
    "        if s in tr[i][0]:\n",
    "            number += 1\n",
    "    if number == 0:\n",
    "        new_tr.append(tr[i])"
   ]
  },
  {
   "cell_type": "code",
   "execution_count": 58,
   "metadata": {
    "collapsed": false
   },
   "outputs": [],
   "source": [
    "file = open(\"bigram_1225.txt\",\"w\")\n",
    "for i in new_bi:\n",
    "    file.write(str(i)+\"\\n\")\n",
    "file.close()"
   ]
  },
  {
   "cell_type": "code",
   "execution_count": 59,
   "metadata": {
    "collapsed": true
   },
   "outputs": [],
   "source": [
    "file = open(\"trigram_1225.txt\",\"w\")\n",
    "for i in new_tr:\n",
    "    file.write(str(i)+\"\\n\")\n",
    "file.close()"
   ]
  },
  {
   "cell_type": "markdown",
   "metadata": {},
   "source": [
    "### 3. 加入1225自定義字典"
   ]
  },
  {
   "cell_type": "code",
   "execution_count": 60,
   "metadata": {
    "collapsed": true
   },
   "outputs": [],
   "source": [
    "jieba.load_userdict('自定義字典.txt')"
   ]
  },
  {
   "cell_type": "code",
   "execution_count": 61,
   "metadata": {
    "collapsed": false
   },
   "outputs": [
    {
     "data": {
      "application/vnd.jupyter.widget-view+json": {
       "model_id": "caece2480d8947c3bd0518b32970ad0b",
       "version_major": 2,
       "version_minor": 0
      },
      "text/plain": [
       "HBox(children=(IntProgress(value=0, max=5750), HTML(value='')))"
      ]
     },
     "metadata": {},
     "output_type": "display_data"
    },
    {
     "name": "stdout",
     "output_type": "stream",
     "text": [
      "\n"
     ]
    }
   ],
   "source": [
    "# run 1227\n",
    "text = []\n",
    "for index in tqdm_notebook(range(len(df_1227))):\n",
    "    words = jieba.cut(str(df_1227['text'][index]))\n",
    "    for word in words:\n",
    "        if word != ' ':\n",
    "            text.append(word)"
   ]
  },
  {
   "cell_type": "code",
   "execution_count": 62,
   "metadata": {
    "collapsed": true
   },
   "outputs": [],
   "source": [
    "bigram = ngrams(text,2)\n",
    "trgram = ngrams(text,3)\n",
    "bi = Counter(bigram).most_common()\n",
    "tr = Counter(trgram).most_common()"
   ]
  },
  {
   "cell_type": "code",
   "execution_count": 64,
   "metadata": {
    "collapsed": true
   },
   "outputs": [],
   "source": [
    "new_bi = []\n",
    "new_tr = []\n",
    "stop = ['，','、','：','(',')','。',':','【','】','/','-','_',',','“','___','「','」','+','__','？','.','?','!','~','>','=','...','…']\n",
    "for i in range(len(bi)):\n",
    "    number = 0\n",
    "    for s in stop:\n",
    "        if s in bi[i][0]:\n",
    "            number += 1\n",
    "    if number == 0:\n",
    "        new_bi.append(bi[i])\n",
    "\n",
    "for i in range(len(tr)):\n",
    "    number = 0\n",
    "    for s in stop:\n",
    "        if s in tr[i][0]:\n",
    "            number += 1\n",
    "    if number == 0:\n",
    "        new_tr.append(tr[i])"
   ]
  },
  {
   "cell_type": "code",
   "execution_count": 65,
   "metadata": {
    "collapsed": true
   },
   "outputs": [],
   "source": [
    "file = open(\"bigram_1227.txt\",\"w\")\n",
    "for i in new_bi:\n",
    "    file.write(str(i)+\"\\n\")\n",
    "file.close()"
   ]
  },
  {
   "cell_type": "code",
   "execution_count": 66,
   "metadata": {
    "collapsed": true
   },
   "outputs": [],
   "source": [
    "file = open(\"trigram_1227.txt\",\"w\")\n",
    "for i in new_tr:\n",
    "    file.write(str(i)+\"\\n\")\n",
    "file.close()"
   ]
  },
  {
   "cell_type": "code",
   "execution_count": null,
   "metadata": {
    "collapsed": true
   },
   "outputs": [],
   "source": []
  }
 ],
 "metadata": {
  "kernelspec": {
   "display_name": "Python 3",
   "language": "python",
   "name": "python3"
  },
  "language_info": {
   "codemirror_mode": {
    "name": "ipython",
    "version": 3
   },
   "file_extension": ".py",
   "mimetype": "text/x-python",
   "name": "python",
   "nbconvert_exporter": "python",
   "pygments_lexer": "ipython3",
   "version": "3.6.8"
  }
 },
 "nbformat": 4,
 "nbformat_minor": 2
}
