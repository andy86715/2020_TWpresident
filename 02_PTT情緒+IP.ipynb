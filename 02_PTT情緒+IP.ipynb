{
 "cells": [
  {
   "cell_type": "code",
   "execution_count": 1,
   "metadata": {
    "collapsed": true
   },
   "outputs": [],
   "source": [
    "import numpy as np\n",
    "import pandas as pd\n",
    "import matplotlib.pyplot as plt\n",
    "from tqdm import tqdm_notebook\n",
    "from matplotlib.font_manager import FontProperties\n",
    "font = FontProperties(fname=r\"/System/Library/Fonts/STHeiti Light.ttc\",size=12)\n",
    "import warnings\n",
    "warnings.filterwarnings(\"ignore\")"
   ]
  },
  {
   "cell_type": "code",
   "execution_count": 2,
   "metadata": {
    "collapsed": true
   },
   "outputs": [],
   "source": [
    "df_1218 = pd.read_pickle('ptt_1218.pkl')\n",
    "df_1225 = pd.read_pickle('ptt_1225.pkl')\n",
    "df_1227 = pd.read_pickle('ptt_1227.pkl')"
   ]
  },
  {
   "cell_type": "code",
   "execution_count": 3,
   "metadata": {
    "collapsed": false
   },
   "outputs": [],
   "source": [
    "# time\n",
    "df_1218['time'] = df_1218['others'].str[-5:]\n",
    "df_1225['time'] = df_1225['others'].str[-5:]\n",
    "df_1227['time'] = df_1227['others'].str[-5:]\n",
    "# date\n",
    "df_1218['date'] = df_1218['others'].str[-11:-5]\n",
    "df_1225['date'] = df_1225['others'].str[-11:-5]\n",
    "df_1227['date'] = df_1227['others'].str[-11:-5]\n",
    "# ip\n",
    "df_1218['ip'] = df_1218['others'].str[:-11]\n",
    "df_1225['ip'] = df_1225['others'].str[:-11]\n",
    "df_1227['ip'] = df_1227['others'].str[:-11]"
   ]
  },
  {
   "cell_type": "code",
   "execution_count": 4,
   "metadata": {
    "collapsed": false
   },
   "outputs": [
    {
     "data": {
      "text/html": [
       "<div>\n",
       "<table border=\"1\" class=\"dataframe\">\n",
       "  <thead>\n",
       "    <tr style=\"text-align: right;\">\n",
       "      <th></th>\n",
       "      <th>tag</th>\n",
       "      <th>userid</th>\n",
       "      <th>text</th>\n",
       "      <th>others</th>\n",
       "      <th>time</th>\n",
       "      <th>date</th>\n",
       "      <th>ip</th>\n",
       "    </tr>\n",
       "  </thead>\n",
       "  <tbody>\n",
       "    <tr>\n",
       "      <th>0</th>\n",
       "      <td>推</td>\n",
       "      <td>kcclasaki</td>\n",
       "      <td>射惹兒</td>\n",
       "      <td>110.50.176.14 12/25 13:51</td>\n",
       "      <td>13:51</td>\n",
       "      <td>12/25</td>\n",
       "      <td>110.50.176.14</td>\n",
       "    </tr>\n",
       "    <tr>\n",
       "      <th>1</th>\n",
       "      <td>推</td>\n",
       "      <td>james732</td>\n",
       "      <td>神掌講完再叫我</td>\n",
       "      <td>114.136.200.218 12/25 13:51</td>\n",
       "      <td>13:51</td>\n",
       "      <td>12/25</td>\n",
       "      <td>114.136.200.218</td>\n",
       "    </tr>\n",
       "    <tr>\n",
       "      <th>2</th>\n",
       "      <td>推</td>\n",
       "      <td>XDDXDD</td>\n",
       "      <td>如來神掌講完叫我</td>\n",
       "      <td>61.57.113.108 12/25 13:51</td>\n",
       "      <td>13:51</td>\n",
       "      <td>12/25</td>\n",
       "      <td>61.57.113.108</td>\n",
       "    </tr>\n",
       "    <tr>\n",
       "      <th>3</th>\n",
       "      <td>推</td>\n",
       "      <td>ps124125288</td>\n",
       "      <td>感謝分享，期待精彩演出~</td>\n",
       "      <td>180.217.185.252 12/25 13:51</td>\n",
       "      <td>13:51</td>\n",
       "      <td>12/25</td>\n",
       "      <td>180.217.185.252</td>\n",
       "    </tr>\n",
       "    <tr>\n",
       "      <th>4</th>\n",
       "      <td>噓</td>\n",
       "      <td>m21423</td>\n",
       "      <td>讀稿姬只會唸稿</td>\n",
       "      <td>101.12.0.131 12/25 13:53</td>\n",
       "      <td>13:53</td>\n",
       "      <td>12/25</td>\n",
       "      <td>101.12.0.131</td>\n",
       "    </tr>\n",
       "  </tbody>\n",
       "</table>\n",
       "</div>"
      ],
      "text/plain": [
       "  tag       userid           text                       others   time    date  \\\n",
       "0   推    kcclasaki            射惹兒    110.50.176.14 12/25 13:51  13:51  12/25    \n",
       "1   推     james732        神掌講完再叫我  114.136.200.218 12/25 13:51  13:51  12/25    \n",
       "2   推       XDDXDD       如來神掌講完叫我    61.57.113.108 12/25 13:51  13:51  12/25    \n",
       "3   推  ps124125288   感謝分享，期待精彩演出~  180.217.185.252 12/25 13:51  13:51  12/25    \n",
       "4   噓       m21423        讀稿姬只會唸稿     101.12.0.131 12/25 13:53  13:53  12/25    \n",
       "\n",
       "                 ip  \n",
       "0    110.50.176.14   \n",
       "1  114.136.200.218   \n",
       "2    61.57.113.108   \n",
       "3  180.217.185.252   \n",
       "4     101.12.0.131   "
      ]
     },
     "execution_count": 4,
     "metadata": {},
     "output_type": "execute_result"
    }
   ],
   "source": [
    "df_1225.head()"
   ]
  },
  {
   "cell_type": "markdown",
   "metadata": {},
   "source": [
    "## Part1 情緒分析"
   ]
  },
  {
   "cell_type": "markdown",
   "metadata": {},
   "source": [
    "### 1. Swinger"
   ]
  },
  {
   "cell_type": "code",
   "execution_count": 6,
   "metadata": {
    "collapsed": false
   },
   "outputs": [],
   "source": [
    "from Swinger import Swinger"
   ]
  },
  {
   "cell_type": "code",
   "execution_count": 7,
   "metadata": {
    "collapsed": false
   },
   "outputs": [
    {
     "name": "stdout",
     "output_type": "stream",
     "text": [
      "load default bestMainFeatures\n",
      "load default bestMainFeatures success!!\n",
      "load model from LogisticRegression\n"
     ]
    }
   ],
   "source": [
    "s_lr = Swinger()\n",
    "s_lr.load('LogisticRegression')"
   ]
  },
  {
   "cell_type": "code",
   "execution_count": 8,
   "metadata": {
    "collapsed": true
   },
   "outputs": [],
   "source": [
    "def swinger_lr(df):\n",
    "    sentiment = []\n",
    "    for text in tqdm_notebook(df['text']):\n",
    "        sentiment.append(s_lr.swing(text))\n",
    "    df['sentiment_lr'] = sentiment\n",
    "    return df"
   ]
  },
  {
   "cell_type": "code",
   "execution_count": 9,
   "metadata": {
    "collapsed": false,
    "scrolled": false
   },
   "outputs": [
    {
     "data": {
      "application/vnd.jupyter.widget-view+json": {
       "model_id": "d99ccd129a384a77af80a7709305d0a6",
       "version_major": 2,
       "version_minor": 0
      },
      "text/plain": [
       "HBox(children=(IntProgress(value=0, max=8832), HTML(value='')))"
      ]
     },
     "metadata": {},
     "output_type": "display_data"
    },
    {
     "name": "stdout",
     "output_type": "stream",
     "text": [
      "\n"
     ]
    },
    {
     "data": {
      "application/vnd.jupyter.widget-view+json": {
       "model_id": "235a897a4e7044818ec3408828c39a13",
       "version_major": 2,
       "version_minor": 0
      },
      "text/plain": [
       "HBox(children=(IntProgress(value=0, max=2185), HTML(value='')))"
      ]
     },
     "metadata": {},
     "output_type": "display_data"
    },
    {
     "name": "stdout",
     "output_type": "stream",
     "text": [
      "\n"
     ]
    },
    {
     "data": {
      "application/vnd.jupyter.widget-view+json": {
       "model_id": "90936c4bee544be39b935839ffe09705",
       "version_major": 2,
       "version_minor": 0
      },
      "text/plain": [
       "HBox(children=(IntProgress(value=0, max=5750), HTML(value='')))"
      ]
     },
     "metadata": {},
     "output_type": "display_data"
    },
    {
     "name": "stdout",
     "output_type": "stream",
     "text": [
      "\n"
     ]
    }
   ],
   "source": [
    "df_1218 = swinger_lr(df_1218)\n",
    "df_1225 = swinger_lr(df_1225)\n",
    "df_1227 = swinger_lr(df_1227)"
   ]
  },
  {
   "cell_type": "code",
   "execution_count": 10,
   "metadata": {
    "collapsed": false
   },
   "outputs": [
    {
     "name": "stdout",
     "output_type": "stream",
     "text": [
      "load default bestMainFeatures\n",
      "load default bestMainFeatures success!!\n",
      "load model from MultinomialNB\n"
     ]
    }
   ],
   "source": [
    "s_nb = Swinger()\n",
    "s_nb.load('MultinomialNB')"
   ]
  },
  {
   "cell_type": "code",
   "execution_count": 11,
   "metadata": {
    "collapsed": true
   },
   "outputs": [],
   "source": [
    "def swinger_nb(df):\n",
    "    sentiment = []\n",
    "    for text in tqdm_notebook(df['text']):\n",
    "        sentiment.append(s_nb.swing(text))\n",
    "    df['sentiment_nb'] = sentiment\n",
    "    return df"
   ]
  },
  {
   "cell_type": "code",
   "execution_count": 12,
   "metadata": {
    "collapsed": false
   },
   "outputs": [
    {
     "data": {
      "application/vnd.jupyter.widget-view+json": {
       "model_id": "21d707f8f21f452984ee46f7a9b2b9db",
       "version_major": 2,
       "version_minor": 0
      },
      "text/plain": [
       "HBox(children=(IntProgress(value=0, max=8832), HTML(value='')))"
      ]
     },
     "metadata": {},
     "output_type": "display_data"
    },
    {
     "name": "stdout",
     "output_type": "stream",
     "text": [
      "\n"
     ]
    },
    {
     "data": {
      "application/vnd.jupyter.widget-view+json": {
       "model_id": "8083aa5c2a7949d5af4d3365d498dae6",
       "version_major": 2,
       "version_minor": 0
      },
      "text/plain": [
       "HBox(children=(IntProgress(value=0, max=2185), HTML(value='')))"
      ]
     },
     "metadata": {},
     "output_type": "display_data"
    },
    {
     "name": "stdout",
     "output_type": "stream",
     "text": [
      "\n"
     ]
    },
    {
     "data": {
      "application/vnd.jupyter.widget-view+json": {
       "model_id": "2e5e1912f3cd45d88b87b1baf896d78c",
       "version_major": 2,
       "version_minor": 0
      },
      "text/plain": [
       "HBox(children=(IntProgress(value=0, max=5750), HTML(value='')))"
      ]
     },
     "metadata": {},
     "output_type": "display_data"
    },
    {
     "name": "stdout",
     "output_type": "stream",
     "text": [
      "\n"
     ]
    }
   ],
   "source": [
    "df_1218 = swinger_nb(df_1218)\n",
    "df_1225 = swinger_nb(df_1225)\n",
    "df_1227 = swinger_nb(df_1227)"
   ]
  },
  {
   "cell_type": "markdown",
   "metadata": {},
   "source": [
    "### 2. SnowNLP"
   ]
  },
  {
   "cell_type": "code",
   "execution_count": 13,
   "metadata": {
    "collapsed": false
   },
   "outputs": [],
   "source": [
    "from snownlp import SnowNLP"
   ]
  },
  {
   "cell_type": "code",
   "execution_count": 14,
   "metadata": {
    "collapsed": false
   },
   "outputs": [],
   "source": [
    "def snow(df):\n",
    "    sentiment = []\n",
    "    for text in tqdm_notebook(df['text']):\n",
    "        try:\n",
    "            s = SnowNLP(text)\n",
    "            sentiment.append(s.sentiments)\n",
    "        except:\n",
    "            sentiment.append(None)\n",
    "    df['sentiment_snow'] = sentiment\n",
    "    return df"
   ]
  },
  {
   "cell_type": "code",
   "execution_count": 15,
   "metadata": {
    "collapsed": false
   },
   "outputs": [
    {
     "data": {
      "application/vnd.jupyter.widget-view+json": {
       "model_id": "a19a006f30fb4e468822e05236f05dc8",
       "version_major": 2,
       "version_minor": 0
      },
      "text/plain": [
       "HBox(children=(IntProgress(value=0, max=8832), HTML(value='')))"
      ]
     },
     "metadata": {},
     "output_type": "display_data"
    },
    {
     "name": "stdout",
     "output_type": "stream",
     "text": [
      "\n"
     ]
    },
    {
     "data": {
      "application/vnd.jupyter.widget-view+json": {
       "model_id": "538252aecccd4a0483519bc1c0c19926",
       "version_major": 2,
       "version_minor": 0
      },
      "text/plain": [
       "HBox(children=(IntProgress(value=0, max=2185), HTML(value='')))"
      ]
     },
     "metadata": {},
     "output_type": "display_data"
    },
    {
     "name": "stdout",
     "output_type": "stream",
     "text": [
      "\n"
     ]
    },
    {
     "data": {
      "application/vnd.jupyter.widget-view+json": {
       "model_id": "02dff32218964ddab51c039739dead90",
       "version_major": 2,
       "version_minor": 0
      },
      "text/plain": [
       "HBox(children=(IntProgress(value=0, max=5750), HTML(value='')))"
      ]
     },
     "metadata": {},
     "output_type": "display_data"
    },
    {
     "name": "stdout",
     "output_type": "stream",
     "text": [
      "\n"
     ]
    }
   ],
   "source": [
    "df_1218 = snow(df_1218)\n",
    "df_1225 = snow(df_1225)\n",
    "df_1227 = snow(df_1227)"
   ]
  },
  {
   "cell_type": "code",
   "execution_count": 16,
   "metadata": {
    "collapsed": false
   },
   "outputs": [],
   "source": [
    "temp = df_1225.groupby(['date','time'])['sentiment_snow'].mean().reset_index()\n",
    "temp.set_index(\"time\", inplace = True) \n",
    "temp = temp.drop('date', axis=1)"
   ]
  },
  {
   "cell_type": "code",
   "execution_count": 17,
   "metadata": {
    "collapsed": false
   },
   "outputs": [
    {
     "data": {
      "text/plain": [
       "[<matplotlib.lines.Line2D at 0x156c68198>]"
      ]
     },
     "execution_count": 17,
     "metadata": {},
     "output_type": "execute_result"
    },
    {
     "data": {
      "image/png": "[encoded data removed]",
      "text/plain": [
       "<Figure size 2880x360 with 1 Axes>"
      ]
     },
     "metadata": {
      "needs_background": "light"
     },
     "output_type": "display_data"
    }
   ],
   "source": [
    "plt.gcf().set_size_inches(40,5)\n",
    "plt.plot(temp)"
   ]
  },
  {
   "cell_type": "markdown",
   "metadata": {},
   "source": [
    "## Part2 IP地區"
   ]
  },
  {
   "cell_type": "code",
   "execution_count": 17,
   "metadata": {
    "collapsed": true
   },
   "outputs": [],
   "source": [
    "import json\n",
    "import requests"
   ]
  },
  {
   "cell_type": "code",
   "execution_count": 18,
   "metadata": {
    "collapsed": true
   },
   "outputs": [],
   "source": [
    "def ip_analysis(df):\n",
    "    country, city = [], []\n",
    "    for index in tqdm_notebook(range(len(df))):\n",
    "        data = json.loads(requests.get('http://extreme-ip-lookup.com/json/'+df['ip'][index].replace(' ','')).text)\n",
    "        try:\n",
    "            country.append(data['country'])\n",
    "        except:\n",
    "            country.append(None)\n",
    "        try:\n",
    "            city.append(data['city'])\n",
    "        except:\n",
    "            city.append(None)\n",
    "    df['country'] = pd.DataFrame(country)\n",
    "    df['city'] = pd.DataFrame(city)\n",
    "    return df"
   ]
  },
  {
   "cell_type": "code",
   "execution_count": 21,
   "metadata": {
    "collapsed": false
   },
   "outputs": [
    {
     "data": {
      "application/vnd.jupyter.widget-view+json": {
       "model_id": "fb0cdc321fbd4cfc80b1a36e6f372d47",
       "version_major": 2,
       "version_minor": 0
      },
      "text/plain": [
       "HBox(children=(IntProgress(value=0, max=8832), HTML(value='')))"
      ]
     },
     "metadata": {},
     "output_type": "display_data"
    },
    {
     "name": "stdout",
     "output_type": "stream",
     "text": [
      "\n"
     ]
    }
   ],
   "source": [
    "df_1218 = ip_analysis(df_1218)"
   ]
  },
  {
   "cell_type": "code",
   "execution_count": 19,
   "metadata": {
    "collapsed": false
   },
   "outputs": [
    {
     "data": {
      "application/vnd.jupyter.widget-view+json": {
       "model_id": "78931e2ad84f49b1a4bb63bea37e3720",
       "version_major": 2,
       "version_minor": 0
      },
      "text/plain": [
       "HBox(children=(IntProgress(value=0, max=2185), HTML(value='')))"
      ]
     },
     "metadata": {},
     "output_type": "display_data"
    },
    {
     "name": "stdout",
     "output_type": "stream",
     "text": [
      "\n"
     ]
    }
   ],
   "source": [
    "df_1225 = ip_analysis(df_1225)"
   ]
  },
  {
   "cell_type": "code",
   "execution_count": 24,
   "metadata": {
    "collapsed": false
   },
   "outputs": [
    {
     "data": {
      "application/vnd.jupyter.widget-view+json": {
       "model_id": "eabb20f1e2474b53aa4cf3d12ec6f787",
       "version_major": 2,
       "version_minor": 0
      },
      "text/plain": [
       "HBox(children=(IntProgress(value=0, max=5750), HTML(value='')))"
      ]
     },
     "metadata": {},
     "output_type": "display_data"
    },
    {
     "name": "stdout",
     "output_type": "stream",
     "text": [
      "\n"
     ]
    }
   ],
   "source": [
    "df_1227 = ip_analysis(df_1227)"
   ]
  },
  {
   "cell_type": "code",
   "execution_count": 26,
   "metadata": {
    "collapsed": false
   },
   "outputs": [],
   "source": [
    "df_1218.to_pickle('ptt_1218_new.pkl')\n",
    "df_1225.to_pickle('ptt_1225_new.pkl')\n",
    "df_1227.to_pickle('ptt_1227_new.pkl')"
   ]
  },
  {
   "cell_type": "markdown",
   "metadata": {
    "collapsed": true
   },
   "source": [
    "## Part3 切出候選人"
   ]
  },
  {
   "cell_type": "code",
   "execution_count": null,
   "metadata": {
    "collapsed": true
   },
   "outputs": [],
   "source": [
    "a = []\n",
    "for i in range(len(df_1218)):\n",
    "    if ('19:03' <= df_1218['time'][i] and df_1218['time'][i] < '19:12') | ('19:32' <= df_1218['time'][i] and  df_1218['time'][i] < '19:42') | ('20:02' <= df_1218['time'][i] and df_1218['time'][i] < '20:12'):\n",
    "        a.append('韓國瑜')\n",
    "    elif ('19:22' <= df_1218['time'][i] and df_1218['time'][i] < '19:32') | ('19:52' <= df_1218['time'][i] and df_1218['time'][i] < '20:02') | ('20:22' <= df_1218['time'][i] and df_1218['time'][i] < '20:32'):\n",
    "        a.append('蔡英文')\n",
    "    elif ('19:12' <= df_1218['time'][i] and df_1218['time'][i] < '19:22') | ('19:42' <= df_1218['time'][i] and df_1218['time'][i] < '19:52') | ('20:12' <= df_1218['time'][i] and df_1218['time'][i] < '20:22'):\n",
    "        a.append('宋楚瑜')\n",
    "    else:\n",
    "        a.append(None)\n",
    "df_1218['candidate'] = a"
   ]
  },
  {
   "cell_type": "code",
   "execution_count": null,
   "metadata": {
    "collapsed": true
   },
   "outputs": [],
   "source": [
    "a = []\n",
    "for i in range(len(df_1225)):\n",
    "    if ('14:15' <= df_1225['time'][i] and df_1225['time'][i] < '14:25') | ('14:45' <= df_1225['time'][i] and  df_1225['time'][i] < '14:55') | ('15:15' <= df_1225['time'][i] and df_1225['time'][i] < '15:25'):\n",
    "        a.append('韓國瑜')\n",
    "    elif ('14:05' <= df_1225['time'][i] and df_1225['time'][i] < '14:15') | ('14:35' <= df_1225['time'][i] and df_1225['time'][i] < '14:45') | ('15:05' <= df_1225['time'][i] and df_1225['time'][i] < '15:15'):\n",
    "        a.append('蔡英文')\n",
    "    elif ('14:25' <= df_1225['time'][i] and df_1225['time'][i] < '14:35') | ('14:55' <= df_1225['time'][i] and df_1225['time'][i] < '15:05') | ('15:25' <= df_1225['time'][i] and df_1225['time'][i] < '15:35'):\n",
    "        a.append('宋楚瑜')\n",
    "    else:\n",
    "        a.append(None)\n",
    "df_1225['candidate'] = a"
   ]
  },
  {
   "cell_type": "code",
   "execution_count": null,
   "metadata": {
    "collapsed": true
   },
   "outputs": [],
   "source": [
    "a = []\n",
    "for i in range(len(df_1227)):\n",
    "    if ('19:13' <= df_1227['time'][i] and df_1227['time'][i] < '19:23') | ('19:43' <= df_1227['time'][i] and  df_1227['time'][i] < '19:53') | ('20:13' <= df_1227['time'][i] and df_1227['time'][i] < '20:23'):\n",
    "        a.append('韓國瑜')\n",
    "    elif ('19:23' <= df_1227['time'][i] and df_1227['time'][i] < '19:33') | ('19:53' <= df_1227['time'][i] and df_1227['time'][i] < '20:03') | ('20:23' <= df_1227['time'][i] and df_1227['time'][i] < '20:33'):\n",
    "        a.append('蔡英文')\n",
    "    elif ('19:03' <= df_1227['time'][i] and df_1227['time'][i] < '19:13') | ('19:33' <= df_1227['time'][i] and df_1227['time'][i] < '19:43') | ('20:03' <= df_1227['time'][i] and df_1227['time'][i] < '20:13'):\n",
    "        a.append('宋楚瑜')\n",
    "    else:\n",
    "        a.append(None)\n",
    "df_1227['candidate'] = a"
   ]
  }
 ],
 "metadata": {
  "kernelspec": {
   "display_name": "Python 3",
   "language": "python",
   "name": "python3"
  },
  "language_info": {
   "codemirror_mode": {
    "name": "ipython",
    "version": 3
   },
   "file_extension": ".py",
   "mimetype": "text/x-python",
   "name": "python",
   "nbconvert_exporter": "python",
   "pygments_lexer": "ipython3",
   "version": "3.6.8"
  }
 },
 "nbformat": 4,
 "nbformat_minor": 2
}
